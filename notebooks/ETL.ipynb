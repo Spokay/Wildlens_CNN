{
 "cells": [
  {
   "cell_type": "code",
   "execution_count": 1,
   "id": "b6f38bea-d2d6-42b9-b2d5-e5d95cd7c24a",
   "metadata": {
    "ExecuteTime": {
     "end_time": "2024-11-15T15:41:52.460177Z",
     "start_time": "2024-11-15T15:41:51.374341Z"
    }
   },
   "outputs": [
    {
     "name": "stderr",
     "output_type": "stream",
     "text": [
      "2024-11-15 16:41:51.641250: I tensorflow/core/util/port.cc:153] oneDNN custom operations are on. You may see slightly different numerical results due to floating-point round-off errors from different computation orders. To turn them off, set the environment variable `TF_ENABLE_ONEDNN_OPTS=0`.\n",
      "2024-11-15 16:41:51.649822: E external/local_xla/xla/stream_executor/cuda/cuda_fft.cc:485] Unable to register cuFFT factory: Attempting to register factory for plugin cuFFT when one has already been registered\n",
      "2024-11-15 16:41:51.659179: E external/local_xla/xla/stream_executor/cuda/cuda_dnn.cc:8454] Unable to register cuDNN factory: Attempting to register factory for plugin cuDNN when one has already been registered\n",
      "2024-11-15 16:41:51.661978: E external/local_xla/xla/stream_executor/cuda/cuda_blas.cc:1452] Unable to register cuBLAS factory: Attempting to register factory for plugin cuBLAS when one has already been registered\n",
      "2024-11-15 16:41:51.669500: I tensorflow/core/platform/cpu_feature_guard.cc:210] This TensorFlow binary is optimized to use available CPU instructions in performance-critical operations.\n",
      "To enable the following instructions: AVX2 AVX512F AVX512_VNNI AVX512_BF16 FMA, in other operations, rebuild TensorFlow with the appropriate compiler flags.\n",
      "2024-11-15 16:41:52.025491: W tensorflow/compiler/tf2tensorrt/utils/py_utils.cc:38] TF-TRT Warning: Could not find TensorRT\n",
      "WARNING: All log messages before absl::InitializeLog() is called are written to STDERR\n",
      "I0000 00:00:1731685312.431696  169013 cuda_executor.cc:1015] successful NUMA node read from SysFS had negative value (-1), but there must be at least one NUMA node, so returning NUMA node zero. See more at https://github.com/torvalds/linux/blob/v6.0/Documentation/ABI/testing/sysfs-bus-pci#L344-L355\n",
      "I0000 00:00:1731685312.458627  169013 cuda_executor.cc:1015] successful NUMA node read from SysFS had negative value (-1), but there must be at least one NUMA node, so returning NUMA node zero. See more at https://github.com/torvalds/linux/blob/v6.0/Documentation/ABI/testing/sysfs-bus-pci#L344-L355\n",
      "I0000 00:00:1731685312.458746  169013 cuda_executor.cc:1015] successful NUMA node read from SysFS had negative value (-1), but there must be at least one NUMA node, so returning NUMA node zero. See more at https://github.com/torvalds/linux/blob/v6.0/Documentation/ABI/testing/sysfs-bus-pci#L344-L355\n"
     ]
    }
   ],
   "source": [
    "import matplotlib.pyplot as plt\n",
    "import tensorflow as tf\n",
    "\n",
    "physical_devices = tf.config.list_physical_devices('GPU')\n",
    "tf.config.experimental.set_memory_growth(physical_devices[0], True)"
   ]
  },
  {
   "cell_type": "markdown",
   "id": "878e59d05feca7de",
   "metadata": {},
   "source": [
    "# Transformation de toutes les images en JPEG"
   ]
  },
  {
   "cell_type": "code",
   "execution_count": null,
   "id": "a0357f92832fdf37",
   "metadata": {},
   "outputs": [],
   "source": [
    "import pathlib\n",
    "import sys\n",
    "\n",
    "sys.path.append(\"..\")\n",
    "\n",
    "from utilitaires.image_util import transform_image_type_to_jpg\n",
    "\n",
    "data_dir_path = '/home/shared/Mammiferes'\n",
    "\n",
    "data_dir = pathlib.Path(data_dir_path).with_suffix('')\n",
    "\n",
    "image_paths = list(data_dir.glob('*/*.*'))\n",
    "\n",
    "transform_image_type_to_jpg(image_paths)\n",
    "\n",
    "image_count = len(image_paths)\n",
    "\n",
    "print(image_count)\n"
   ]
  },
  {
   "cell_type": "markdown",
   "id": "1b33951cbe3d44a0",
   "metadata": {},
   "source": [
    "# Data Augmentation"
   ]
  },
  {
   "cell_type": "code",
   "execution_count": 33,
   "id": "949c70003328d63e",
   "metadata": {
    "ExecuteTime": {
     "end_time": "2024-11-15T16:28:15.237473Z",
     "start_time": "2024-11-15T16:28:13.280383Z"
    }
   },
   "outputs": [
    {
     "name": "stdout",
     "output_type": "stream",
     "text": [
      "Found 252 files belonging to 13 classes.\n",
      "Using 202 files for training.\n",
      "Found 252 files belonging to 13 classes.\n",
      "Using 50 files for validation.\n",
      "<_ParallelInterleaveDataset element_spec=(TensorSpec(shape=(None, 256, 256, 3), dtype=tf.float32, name=None), TensorSpec(shape=(None,), dtype=tf.int32, name=None))>\n",
      "3584\n"
     ]
    }
   ],
   "source": [
    "\n",
    "from keras.src.utils import image_dataset_from_directory\n",
    "from tensorflow.data import Dataset\n",
    "\n",
    "batch_size = 32\n",
    "\n",
    "train_ds = image_dataset_from_directory(\n",
    "    \"/home/shared/Mammiferes\",\n",
    "    batch_size=batch_size,\n",
    "    image_size = (256, 256),\n",
    "    validation_split=0.2,\n",
    "    subset=\"training\",\n",
    "    seed=47\n",
    ")\n",
    "val_ds = image_dataset_from_directory(\n",
    "    \"/home/shared/Mammiferes\",\n",
    "    batch_size=batch_size,\n",
    "    image_size = (256, 256),\n",
    "    validation_split=0.2,\n",
    "    subset=\"validation\",\n",
    "    seed=47\n",
    ")\n",
    "\n",
    "image_width, image_height = (256, 256)\n",
    "\n",
    "rng = tf.random.Generator.from_seed(123, alg='philox')\n",
    "\n",
    "\n",
    "def resize_and_rescale(x, y):\n",
    "    x = tf.image.resize(x, [image_width, image_height])\n",
    "    x = (x / 255.0)\n",
    "    x = tf.cast(x, tf.float32)\n",
    "    return x, y\n",
    "\n",
    "\n",
    "def augment_and_make_seed(x, y):\n",
    "    seed = rng.make_seeds(1)[:, 0]\n",
    "    image, label = augment((x, y), seed)\n",
    "    return image, label\n",
    "\n",
    "\n",
    "def augment(x_y, seed):\n",
    "    x, y = x_y\n",
    "    x, y = resize_and_rescale(x, y)\n",
    "    # Make a new seed.\n",
    "    new_seed = tf.random.split(seed, num=1)[0, :]\n",
    "    # Random brightness.\n",
    "    x = tf.image.stateless_random_brightness(\n",
    "        x, max_delta=0.2, seed=new_seed)\n",
    "    \n",
    "    x = tf.image.stateless_random_flip_left_right(\n",
    "       x, seed=new_seed \n",
    "    )\n",
    "    \n",
    "    x = tf.image.stateless_random_contrast(\n",
    "        x,\n",
    "        lower=0,\n",
    "        upper=1,\n",
    "        seed=new_seed\n",
    "    )\n",
    "    # normalize the data between 0 and 1\n",
    "    x = tf.clip_by_value(x, 0, 1)\n",
    "\n",
    "    return x, y\n",
    "\n",
    "\n",
    "def apply_augmentation(dataset: Dataset) -> Dataset:\n",
    "    datasets = []\n",
    "    for _ in range(16):\n",
    "            datasets.append(dataset.map(augment_and_make_seed))\n",
    "        \n",
    "        \n",
    "    final_ds = tf.data.Dataset.from_tensor_slices(datasets)\n",
    "\n",
    "    concat_ds = final_ds.interleave(\n",
    "        lambda x: x,\n",
    "        cycle_length=1,\n",
    "        num_parallel_calls=tf.data.AUTOTUNE,\n",
    "    )\n",
    "\n",
    "    return concat_ds\n",
    "\n",
    "\n",
    "augmented_train_dataset = train_ds.apply(apply_augmentation)\n",
    "print(augmented_train_dataset)\n",
    "\n",
    "\n",
    "length_dataset = augmented_train_dataset.reduce(0, lambda x,_: x+1).numpy()\n",
    "print(length_dataset * batch_size)\n",
    "# \n",
    "# for batch in augmented_train_dataset.take(2):\n",
    "#     fig = plt.figure(figsize=(8, 8))\n",
    "#     columns = 4\n",
    "#     rows = 5\n",
    "#     for i in range(1, columns*rows):\n",
    "#         fig.add_subplot(rows, columns, i)\n",
    "#         plt.imshow(batch[0][i])\n",
    "#         \n",
    "#     plt.show()\n",
    "\n",
    "\n"
   ]
  }
 ],
 "metadata": {
  "kernelspec": {
   "display_name": "Tensorflow",
   "language": "python",
   "name": "tf"
  },
  "language_info": {
   "codemirror_mode": {
    "name": "ipython",
    "version": 3
   },
   "file_extension": ".py",
   "mimetype": "text/x-python",
   "name": "python",
   "nbconvert_exporter": "python",
   "pygments_lexer": "ipython3",
   "version": "3.11.10"
  }
 },
 "nbformat": 4,
 "nbformat_minor": 5
}
