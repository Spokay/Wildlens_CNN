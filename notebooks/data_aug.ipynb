{
 "cells": [
  {
   "cell_type": "code",
   "execution_count": 3,
   "metadata": {},
   "outputs": [
    {
     "name": "stderr",
     "output_type": "stream",
     "text": [
      "2024-12-02 16:34:20.791752: I tensorflow/core/util/port.cc:153] oneDNN custom operations are on. You may see slightly different numerical results due to floating-point round-off errors from different computation orders. To turn them off, set the environment variable `TF_ENABLE_ONEDNN_OPTS=0`.\n",
      "2024-12-02 16:34:20.800142: E external/local_xla/xla/stream_executor/cuda/cuda_fft.cc:485] Unable to register cuFFT factory: Attempting to register factory for plugin cuFFT when one has already been registered\n",
      "2024-12-02 16:34:20.809474: E external/local_xla/xla/stream_executor/cuda/cuda_dnn.cc:8454] Unable to register cuDNN factory: Attempting to register factory for plugin cuDNN when one has already been registered\n",
      "2024-12-02 16:34:20.812249: E external/local_xla/xla/stream_executor/cuda/cuda_blas.cc:1452] Unable to register cuBLAS factory: Attempting to register factory for plugin cuBLAS when one has already been registered\n",
      "2024-12-02 16:34:20.819861: I tensorflow/core/platform/cpu_feature_guard.cc:210] This TensorFlow binary is optimized to use available CPU instructions in performance-critical operations.\n",
      "To enable the following instructions: AVX2 AVX512F AVX512_VNNI AVX512_BF16 FMA, in other operations, rebuild TensorFlow with the appropriate compiler flags.\n",
      "2024-12-02 16:34:21.287123: W tensorflow/compiler/tf2tensorrt/utils/py_utils.cc:38] TF-TRT Warning: Could not find TensorRT\n",
      "WARNING: All log messages before absl::InitializeLog() is called are written to STDERR\n",
      "I0000 00:00:1733153661.813098 1778795 cuda_executor.cc:1015] successful NUMA node read from SysFS had negative value (-1), but there must be at least one NUMA node, so returning NUMA node zero. See more at https://github.com/torvalds/linux/blob/v6.0/Documentation/ABI/testing/sysfs-bus-pci#L344-L355\n",
      "I0000 00:00:1733153661.836328 1778795 cuda_executor.cc:1015] successful NUMA node read from SysFS had negative value (-1), but there must be at least one NUMA node, so returning NUMA node zero. See more at https://github.com/torvalds/linux/blob/v6.0/Documentation/ABI/testing/sysfs-bus-pci#L344-L355\n",
      "I0000 00:00:1733153661.836450 1778795 cuda_executor.cc:1015] successful NUMA node read from SysFS had negative value (-1), but there must be at least one NUMA node, so returning NUMA node zero. See more at https://github.com/torvalds/linux/blob/v6.0/Documentation/ABI/testing/sysfs-bus-pci#L344-L355\n"
     ]
    }
   ],
   "source": [
    "import tensorflow as tf\n",
    "import numpy as np\n",
    "import keras\n",
    "from PIL import Image\n",
    "import os\n",
    "import matplotlib.pyplot as plt\n",
    "\n",
    "physical_devices = tf.config.list_physical_devices('GPU')\n",
    "tf.config.experimental.set_memory_growth(physical_devices[0], True)\n",
    "from PIL import Image\n",
    "import random"
   ]
  },
  {
   "cell_type": "code",
   "execution_count": 4,
   "metadata": {},
   "outputs": [],
   "source": [
    "class CustomDataGen(keras.utils.Sequence):\n",
    "    def __init__(self, data_folder: str, aug_len: dict[str, float], batch_size=32, workers=1, use_multiprocessing=False, max_queue_size=10, split=\"train\", train_ratio=0.8, seed=42):\n",
    "        super().__init__(workers, use_multiprocessing, max_queue_size)\n",
    "\n",
    "        self.data_folder = data_folder\n",
    "        self.aug_len = aug_len\n",
    "        self.batch_size = batch_size\n",
    "        self.data = []\n",
    "\n",
    "        self.pipeline = tf.keras.Sequential([\n",
    "            keras.layers.RandomFlip(\"horizontal_and_vertical\"),\n",
    "            keras.layers.RandomRotation(0.2),\n",
    "            keras.layers.RandomZoom(0.1),\n",
    "            keras.layers.RandomContrast(0.01),\n",
    "            keras.layers.Rescaling(1./255),\n",
    "            keras.layers.Normalization(\n",
    "                mean=(0.485, 0.456, 0.406), \n",
    "                variance=(0.229, 0.224, 0.225)\n",
    "            ),\n",
    "            keras.layers.Resizing(224, 224)\n",
    "        ])\n",
    "\n",
    "        self.split = split\n",
    "        self.train_ratio = train_ratio\n",
    "        self.seed = seed\n",
    "        self.load_data()\n",
    "\n",
    "    \n",
    "    def load_data(self):\n",
    "\n",
    "        all_files = []\n",
    "        for root, _, files in os.walk(self.data_folder):\n",
    "            subfolder = os.path.basename(root)\n",
    "            for file in files:\n",
    "                all_files.append({\n",
    "                    \"path\": os.path.join(root, file),\n",
    "                    \"label\": subfolder\n",
    "                })\n",
    "\n",
    "        random.seed(self.seed)\n",
    "        random.shuffle(all_files)\n",
    "        \n",
    "\n",
    "        split_idx = int(len(all_files) * self.train_ratio)\n",
    "        \n",
    "\n",
    "        if self.split == \"train\":\n",
    "            base_files = all_files[:split_idx]\n",
    "        else:\n",
    "            base_files = all_files[split_idx:]\n",
    "        \n",
    "\n",
    "        self.data = []\n",
    "        for file in base_files:\n",
    "            if self.split == \"train\" and file[\"label\"] in self.aug_len:\n",
    "                prob = self.aug_len[file[\"label\"]]\n",
    "                for _ in range(int(prob)):\n",
    "                    self.data.append(file)\n",
    "                if np.random.rand() < (prob - int(prob)):\n",
    "                    self.data.append(file)\n",
    "            else:\n",
    "                self.data.append(file)\n",
    "        \n",
    "        random.shuffle(self.data)\n",
    "\n",
    "    def __len__(self):\n",
    "        return int(np.ceil(len(self.data) / self.batch_size))\n",
    "    \n",
    "    def __getitem__(self, idx):\n",
    "        batch_data = self.data[idx * self.batch_size:(idx + 1) * self.batch_size]\n",
    "        batch_images = []\n",
    "        batch_labels = []\n",
    "        for item in batch_data:\n",
    "            img = Image.open(item[\"path\"])\n",
    "            img = np.array(img)\n",
    "            img = self.pipeline(img)\n",
    "            batch_images.append(img)\n",
    "            batch_labels.append(item[\"label\"])\n",
    "        return np.array(batch_images), np.array(batch_labels)\n",
    "    \n",
    "    def on_epoch_end(self):\n",
    "        self.load_data()\n",
    "        random.shuffle(self.data)\n",
    "        \n"
   ]
  },
  {
   "cell_type": "code",
   "execution_count": 5,
   "metadata": {},
   "outputs": [
    {
     "name": "stderr",
     "output_type": "stream",
     "text": [
      "I0000 00:00:1733153663.421395 1778795 cuda_executor.cc:1015] successful NUMA node read from SysFS had negative value (-1), but there must be at least one NUMA node, so returning NUMA node zero. See more at https://github.com/torvalds/linux/blob/v6.0/Documentation/ABI/testing/sysfs-bus-pci#L344-L355\n",
      "I0000 00:00:1733153663.421564 1778795 cuda_executor.cc:1015] successful NUMA node read from SysFS had negative value (-1), but there must be at least one NUMA node, so returning NUMA node zero. See more at https://github.com/torvalds/linux/blob/v6.0/Documentation/ABI/testing/sysfs-bus-pci#L344-L355\n",
      "I0000 00:00:1733153663.421661 1778795 cuda_executor.cc:1015] successful NUMA node read from SysFS had negative value (-1), but there must be at least one NUMA node, so returning NUMA node zero. See more at https://github.com/torvalds/linux/blob/v6.0/Documentation/ABI/testing/sysfs-bus-pci#L344-L355\n",
      "I0000 00:00:1733153663.476222 1778795 cuda_executor.cc:1015] successful NUMA node read from SysFS had negative value (-1), but there must be at least one NUMA node, so returning NUMA node zero. See more at https://github.com/torvalds/linux/blob/v6.0/Documentation/ABI/testing/sysfs-bus-pci#L344-L355\n",
      "I0000 00:00:1733153663.476354 1778795 cuda_executor.cc:1015] successful NUMA node read from SysFS had negative value (-1), but there must be at least one NUMA node, so returning NUMA node zero. See more at https://github.com/torvalds/linux/blob/v6.0/Documentation/ABI/testing/sysfs-bus-pci#L344-L355\n",
      "I0000 00:00:1733153663.476465 1778795 cuda_executor.cc:1015] successful NUMA node read from SysFS had negative value (-1), but there must be at least one NUMA node, so returning NUMA node zero. See more at https://github.com/torvalds/linux/blob/v6.0/Documentation/ABI/testing/sysfs-bus-pci#L344-L355\n",
      "2024-12-02 16:34:23.476551: I tensorflow/core/common_runtime/gpu/gpu_device.cc:2021] Created device /job:localhost/replica:0/task:0/device:GPU:0 with 7454 MB memory:  -> device: 0, name: NVIDIA GeForce RTX 4090, pci bus id: 0000:01:00.0, compute capability: 8.9\n"
     ]
    }
   ],
   "source": [
    "train = CustomDataGen(\"/home/shared/Mammiferes_jpg\", {\"cat\": 1.5, \"dog\": 1.5}, batch_size=8, split=\"train\")\n",
    "test = CustomDataGen(\"/home/shared/Mammiferes_jpg\", {\"cat\": 1.5, \"dog\": 1.5}, batch_size=8, split=\"test\")"
   ]
  },
  {
   "cell_type": "code",
   "execution_count": null,
   "metadata": {},
   "outputs": [],
   "source": []
  }
 ],
 "metadata": {
  "kernelspec": {
   "display_name": "tf",
   "language": "python",
   "name": "python3"
  },
  "language_info": {
   "codemirror_mode": {
    "name": "ipython",
    "version": 3
   },
   "file_extension": ".py",
   "mimetype": "text/x-python",
   "name": "python",
   "nbconvert_exporter": "python",
   "pygments_lexer": "ipython3",
   "version": "3.11.10"
  }
 },
 "nbformat": 4,
 "nbformat_minor": 2
}
