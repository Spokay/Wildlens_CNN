{
 "cells": [
  {
   "cell_type": "code",
   "execution_count": 35,
   "metadata": {},
   "outputs": [],
   "source": [
    "import keras\n",
    "import tensorflow as tf\n",
    "import random\n",
    "import os\n",
    "import numpy as np\n",
    "from PIL import Image\n",
    "\n",
    "physical_devices = tf.config.experimental.list_physical_devices('GPU')\n",
    "tf.config.experimental.set_memory_growth(physical_devices[0], True)\n",
    "\n",
    "# set log level\n",
    "os.environ['TF_CPP_MIN_LOG_LEVEL'] = '3'"
   ]
  },
  {
   "cell_type": "code",
   "execution_count": 43,
   "metadata": {},
   "outputs": [],
   "source": [
    "class CustomDataGen(keras.utils.Sequence):\n",
    "    def __init__(self, data_folder: str, aug_len: dict[str, float], batch_size=32, workers=1, use_multiprocessing=False, max_queue_size=10, split=\"train\", train_ratio=0.8, seed=42):\n",
    "        super().__init__(workers, use_multiprocessing, max_queue_size)\n",
    "\n",
    "        self.data_folder = data_folder\n",
    "        self.aug_len = aug_len\n",
    "        self.batch_size = batch_size\n",
    "        self.data = []\n",
    "\n",
    "        self.pipeline = tf.keras.Sequential([\n",
    "            keras.layers.RandomFlip(\"horizontal_and_vertical\"),\n",
    "            keras.layers.RandomRotation(0.2),\n",
    "            keras.layers.RandomZoom(0.1),\n",
    "            keras.layers.RandomContrast(0.01),\n",
    "            keras.layers.Rescaling(1./255),\n",
    "            keras.layers.Normalization(\n",
    "                mean=(0.485, 0.456, 0.406), \n",
    "                variance=(0.229, 0.224, 0.225)\n",
    "            ),\n",
    "            keras.layers.Resizing(224, 224)\n",
    "        ])\n",
    "\n",
    "        self.split = split\n",
    "        self.train_ratio = train_ratio\n",
    "        self.seed = seed\n",
    "        self.load_data()\n",
    "        self.classes = {label: idx for idx, label in enumerate(set([item[\"label\"] for item in self.data]))}\n",
    "\n",
    "    \n",
    "    def load_data(self):\n",
    "\n",
    "        all_files = []\n",
    "        for root, _, files in os.walk(self.data_folder):\n",
    "            subfolder = os.path.basename(root)\n",
    "            for file in files:\n",
    "                all_files.append({\n",
    "                    \"path\": os.path.join(root, file),\n",
    "                    \"label\": subfolder\n",
    "                })\n",
    "\n",
    "        random.seed(self.seed)\n",
    "        random.shuffle(all_files)\n",
    "        \n",
    "\n",
    "        split_idx = int(len(all_files) * self.train_ratio)\n",
    "        \n",
    "\n",
    "        if self.split == \"train\":\n",
    "            base_files = all_files[:split_idx]\n",
    "        else:\n",
    "            base_files = all_files[split_idx:]\n",
    "        \n",
    "\n",
    "        self.data = []\n",
    "        for file in base_files:\n",
    "            if self.split == \"train\" and file[\"label\"] in self.aug_len:\n",
    "                prob = self.aug_len[file[\"label\"]]\n",
    "                for _ in range(int(prob)):\n",
    "                    self.data.append(file)\n",
    "                if np.random.rand() < (prob - int(prob)):\n",
    "                    self.data.append(file)\n",
    "            else:\n",
    "                self.data.append(file)\n",
    "        \n",
    "        random.shuffle(self.data)\n",
    "\n",
    "    def __len__(self):\n",
    "        return int(np.ceil(len(self.data) / self.batch_size))\n",
    "    \n",
    "    def __getitem__(self, idx):\n",
    "        batch_data = self.data[idx * self.batch_size:(idx + 1) * self.batch_size]\n",
    "        batch_images = []\n",
    "        batch_labels = []\n",
    "        for item in batch_data:\n",
    "            img = Image.open(item[\"path\"])\n",
    "            img = np.array(img)\n",
    "            img = self.pipeline(img)\n",
    "            batch_images.append(img)\n",
    "            batch_labels.append(self.classes[item[\"label\"]])\n",
    "\n",
    "        return np.array(batch_images), np.array(batch_labels)\n",
    "    \n",
    "    def on_epoch_end(self):\n",
    "        self.load_data()\n",
    "        random.shuffle(self.data)\n",
    "        \n"
   ]
  },
  {
   "cell_type": "code",
   "execution_count": 44,
   "metadata": {},
   "outputs": [],
   "source": [
    "train = CustomDataGen(\"/home/shared/Mammiferes_jpg\", {\"cat\": 1.5, \"dog\": 1.5}, split=\"train\")\n",
    "val = CustomDataGen(\"/home/shared/Mammiferes_jpg\", {\"cat\": 1.5, \"dog\": 1.5}, split=\"val\")"
   ]
  },
  {
   "cell_type": "code",
   "execution_count": 45,
   "metadata": {},
   "outputs": [],
   "source": [
    "model2 = keras.applications.ResNet50(\n",
    "    weights=\"imagenet\",\n",
    "    input_shape=(224, 224, 3),\n",
    "    classes=1000,\n",
    "    classifier_activation=\"softmax\",\n",
    "    include_top=False\n",
    ")"
   ]
  },
  {
   "cell_type": "code",
   "execution_count": 51,
   "metadata": {},
   "outputs": [],
   "source": [
    "model_custom_softmax = keras.Sequential([\n",
    "    model2,\n",
    "    keras.layers.GlobalAveragePooling2D(),\n",
    "    keras.layers.Dense(10, activation=\"softmax\")\n",
    "])\n",
    "\n",
    "model_custom_softmax.compile(\n",
    "    optimizer=keras.optimizers.Adam(),\n",
    "    loss=keras.losses.SparseCategoricalCrossentropy(),\n",
    ")\n"
   ]
  },
  {
   "cell_type": "code",
   "execution_count": 47,
   "metadata": {},
   "outputs": [],
   "source": [
    "save_best = keras.callbacks.ModelCheckpoint(\"model.weights.keras\", save_best_only=True, save_weights_only=False)\n",
    "reduce_lr = keras.callbacks.ReduceLROnPlateau(monitor=\"val_loss\", factor=0.1, patience=5, verbose=1)"
   ]
  },
  {
   "cell_type": "code",
   "execution_count": 54,
   "metadata": {},
   "outputs": [
    {
     "name": "stderr",
     "output_type": "stream",
     "text": [
      "/home/tom/miniconda3/envs/tf/lib/python3.11/site-packages/keras/src/layers/convolutional/base_conv.py:107: UserWarning: Do not pass an `input_shape`/`input_dim` argument to a layer. When using Sequential models, prefer using an `Input(shape)` object as the first layer in the model instead.\n",
      "  super().__init__(activity_regularizer=activity_regularizer, **kwargs)\n"
     ]
    }
   ],
   "source": [
    "model3 = keras.Sequential([\n",
    "    #cnn\n",
    "    keras.layers.Conv2D(32, (3, 3), activation=\"relu\", input_shape=(224, 224, 3)),\n",
    "    keras.layers.MaxPooling2D((2, 2)),\n",
    "    keras.layers.Conv2D(64, (3, 3), activation=\"relu\"),\n",
    "    keras.layers.MaxPooling2D((2, 2)),\n",
    "    keras.layers.Flatten(),\n",
    "    keras.layers.Dense(64, activation=\"relu\"),\n",
    "    keras.layers.Dense(10, activation=\"softmax\")\n",
    "])"
   ]
  },
  {
   "cell_type": "code",
   "execution_count": 57,
   "metadata": {},
   "outputs": [
    {
     "name": "stdout",
     "output_type": "stream",
     "text": [
      "Epoch 1/10\n",
      "\u001b[1m3/7\u001b[0m \u001b[32m━━━━━━━━\u001b[0m\u001b[37m━━━━━━━━━━━━\u001b[0m \u001b[1m1s\u001b[0m 429ms/step - loss: nan"
     ]
    },
    {
     "name": "stderr",
     "output_type": "stream",
     "text": [
      "2024-12-02 17:16:46.109455: W tensorflow/core/framework/op_kernel.cc:1828] UNKNOWN: UnidentifiedImageError: cannot identify image file '/home/shared/Mammiferes_jpg/.DS_Store'\n",
      "Traceback (most recent call last):\n",
      "\n",
      "  File \"/home/tom/miniconda3/envs/tf/lib/python3.11/site-packages/tensorflow/python/ops/script_ops.py\", line 270, in __call__\n",
      "    ret = func(*args)\n",
      "          ^^^^^^^^^^^\n",
      "\n",
      "  File \"/home/tom/miniconda3/envs/tf/lib/python3.11/site-packages/tensorflow/python/autograph/impl/api.py\", line 643, in wrapper\n",
      "    return func(*args, **kwargs)\n",
      "           ^^^^^^^^^^^^^^^^^^^^^\n",
      "\n",
      "  File \"/home/tom/miniconda3/envs/tf/lib/python3.11/site-packages/tensorflow/python/data/ops/from_generator_op.py\", line 198, in generator_py_func\n",
      "    values = next(generator_state.get_iterator(iterator_id))\n",
      "             ^^^^^^^^^^^^^^^^^^^^^^^^^^^^^^^^^^^^^^^^^^^^^^^\n",
      "\n",
      "  File \"/home/tom/miniconda3/envs/tf/lib/python3.11/site-packages/keras/src/trainers/data_adapters/py_dataset_adapter.py\", line 247, in _finite_generator\n",
      "    yield self.py_dataset[i]\n",
      "          ~~~~~~~~~~~~~~~^^^\n",
      "\n",
      "  File \"/tmp/ipykernel_1780711/2898196897.py\", line 75, in __getitem__\n",
      "    img = Image.open(item[\"path\"])\n",
      "          ^^^^^^^^^^^^^^^^^^^^^^^^\n",
      "\n",
      "  File \"/home/tom/miniconda3/envs/tf/lib/python3.11/site-packages/PIL/Image.py\", line 3498, in open\n",
      "    raise UnidentifiedImageError(msg)\n",
      "\n",
      "PIL.UnidentifiedImageError: cannot identify image file '/home/shared/Mammiferes_jpg/.DS_Store'\n",
      "\n",
      "\n",
      "2024-12-02 17:16:46.109532: I tensorflow/core/framework/local_rendezvous.cc:404] Local rendezvous is aborting with status: UNKNOWN: UnidentifiedImageError: cannot identify image file '/home/shared/Mammiferes_jpg/.DS_Store'\n",
      "Traceback (most recent call last):\n",
      "\n",
      "  File \"/home/tom/miniconda3/envs/tf/lib/python3.11/site-packages/tensorflow/python/ops/script_ops.py\", line 270, in __call__\n",
      "    ret = func(*args)\n",
      "          ^^^^^^^^^^^\n",
      "\n",
      "  File \"/home/tom/miniconda3/envs/tf/lib/python3.11/site-packages/tensorflow/python/autograph/impl/api.py\", line 643, in wrapper\n",
      "    return func(*args, **kwargs)\n",
      "           ^^^^^^^^^^^^^^^^^^^^^\n",
      "\n",
      "  File \"/home/tom/miniconda3/envs/tf/lib/python3.11/site-packages/tensorflow/python/data/ops/from_generator_op.py\", line 198, in generator_py_func\n",
      "    values = next(generator_state.get_iterator(iterator_id))\n",
      "             ^^^^^^^^^^^^^^^^^^^^^^^^^^^^^^^^^^^^^^^^^^^^^^^\n",
      "\n",
      "  File \"/home/tom/miniconda3/envs/tf/lib/python3.11/site-packages/keras/src/trainers/data_adapters/py_dataset_adapter.py\", line 247, in _finite_generator\n",
      "    yield self.py_dataset[i]\n",
      "          ~~~~~~~~~~~~~~~^^^\n",
      "\n",
      "  File \"/tmp/ipykernel_1780711/2898196897.py\", line 75, in __getitem__\n",
      "    img = Image.open(item[\"path\"])\n",
      "          ^^^^^^^^^^^^^^^^^^^^^^^^\n",
      "\n",
      "  File \"/home/tom/miniconda3/envs/tf/lib/python3.11/site-packages/PIL/Image.py\", line 3498, in open\n",
      "    raise UnidentifiedImageError(msg)\n",
      "\n",
      "PIL.UnidentifiedImageError: cannot identify image file '/home/shared/Mammiferes_jpg/.DS_Store'\n",
      "\n",
      "\n",
      "\t [[{{node PyFunc}}]]\n",
      "\t [[IteratorGetNext]]\n",
      "2024-12-02 17:16:46.109563: I tensorflow/core/framework/local_rendezvous.cc:423] Local rendezvous recv item cancelled. Key hash: 7739732259139512341\n",
      "2024-12-02 17:16:46.109573: I tensorflow/core/framework/local_rendezvous.cc:423] Local rendezvous recv item cancelled. Key hash: 6043973815741377433\n"
     ]
    },
    {
     "ename": "UnknownError",
     "evalue": "Graph execution error:\n\nDetected at node PyFunc defined at (most recent call last):\n<stack traces unavailable>\nDetected at node PyFunc defined at (most recent call last):\n<stack traces unavailable>\n2 root error(s) found.\n  (0) UNKNOWN:  UnidentifiedImageError: cannot identify image file '/home/shared/Mammiferes_jpg/.DS_Store'\nTraceback (most recent call last):\n\n  File \"/home/tom/miniconda3/envs/tf/lib/python3.11/site-packages/tensorflow/python/ops/script_ops.py\", line 270, in __call__\n    ret = func(*args)\n          ^^^^^^^^^^^\n\n  File \"/home/tom/miniconda3/envs/tf/lib/python3.11/site-packages/tensorflow/python/autograph/impl/api.py\", line 643, in wrapper\n    return func(*args, **kwargs)\n           ^^^^^^^^^^^^^^^^^^^^^\n\n  File \"/home/tom/miniconda3/envs/tf/lib/python3.11/site-packages/tensorflow/python/data/ops/from_generator_op.py\", line 198, in generator_py_func\n    values = next(generator_state.get_iterator(iterator_id))\n             ^^^^^^^^^^^^^^^^^^^^^^^^^^^^^^^^^^^^^^^^^^^^^^^\n\n  File \"/home/tom/miniconda3/envs/tf/lib/python3.11/site-packages/keras/src/trainers/data_adapters/py_dataset_adapter.py\", line 247, in _finite_generator\n    yield self.py_dataset[i]\n          ~~~~~~~~~~~~~~~^^^\n\n  File \"/tmp/ipykernel_1780711/2898196897.py\", line 75, in __getitem__\n    img = Image.open(item[\"path\"])\n          ^^^^^^^^^^^^^^^^^^^^^^^^\n\n  File \"/home/tom/miniconda3/envs/tf/lib/python3.11/site-packages/PIL/Image.py\", line 3498, in open\n    raise UnidentifiedImageError(msg)\n\nPIL.UnidentifiedImageError: cannot identify image file '/home/shared/Mammiferes_jpg/.DS_Store'\n\n\n\t [[{{node PyFunc}}]]\n\t [[IteratorGetNext]]\n\t [[IteratorGetNext/_4]]\n  (1) UNKNOWN:  UnidentifiedImageError: cannot identify image file '/home/shared/Mammiferes_jpg/.DS_Store'\nTraceback (most recent call last):\n\n  File \"/home/tom/miniconda3/envs/tf/lib/python3.11/site-packages/tensorflow/python/ops/script_ops.py\", line 270, in __call__\n    ret = func(*args)\n          ^^^^^^^^^^^\n\n  File \"/home/tom/miniconda3/envs/tf/lib/python3.11/site-packages/tensorflow/python/autograph/impl/api.py\", line 643, in wrapper\n    return func(*args, **kwargs)\n           ^^^^^^^^^^^^^^^^^^^^^\n\n  File \"/home/tom/miniconda3/envs/tf/lib/python3.11/site-packages/tensorflow/python/data/ops/from_generator_op.py\", line 198, in generator_py_func\n    values = next(generator_state.get_iterator(iterator_id))\n             ^^^^^^^^^^^^^^^^^^^^^^^^^^^^^^^^^^^^^^^^^^^^^^^\n\n  File \"/home/tom/miniconda3/envs/tf/lib/python3.11/site-packages/keras/src/trainers/data_adapters/py_dataset_adapter.py\", line 247, in _finite_generator\n    yield self.py_dataset[i]\n          ~~~~~~~~~~~~~~~^^^\n\n  File \"/tmp/ipykernel_1780711/2898196897.py\", line 75, in __getitem__\n    img = Image.open(item[\"path\"])\n          ^^^^^^^^^^^^^^^^^^^^^^^^\n\n  File \"/home/tom/miniconda3/envs/tf/lib/python3.11/site-packages/PIL/Image.py\", line 3498, in open\n    raise UnidentifiedImageError(msg)\n\nPIL.UnidentifiedImageError: cannot identify image file '/home/shared/Mammiferes_jpg/.DS_Store'\n\n\n\t [[{{node PyFunc}}]]\n\t [[IteratorGetNext]]\n0 successful operations.\n0 derived errors ignored. [Op:__inference_one_step_on_iterator_308495]",
     "output_type": "error",
     "traceback": [
      "\u001b[0;31m---------------------------------------------------------------------------\u001b[0m",
      "\u001b[0;31mUnknownError\u001b[0m                              Traceback (most recent call last)",
      "Cell \u001b[0;32mIn[57], line 2\u001b[0m\n\u001b[1;32m      1\u001b[0m model3\u001b[38;5;241m.\u001b[39mcompile( optimizer\u001b[38;5;241m=\u001b[39mkeras\u001b[38;5;241m.\u001b[39moptimizers\u001b[38;5;241m.\u001b[39mAdam(), loss\u001b[38;5;241m=\u001b[39mkeras\u001b[38;5;241m.\u001b[39mlosses\u001b[38;5;241m.\u001b[39mSparseCategoricalCrossentropy())\n\u001b[0;32m----> 2\u001b[0m model3\u001b[38;5;241m.\u001b[39mfit(train, validation_data\u001b[38;5;241m=\u001b[39mval, epochs\u001b[38;5;241m=\u001b[39m\u001b[38;5;241m10\u001b[39m, callbacks\u001b[38;5;241m=\u001b[39m[save_best, reduce_lr], batch_size\u001b[38;5;241m=\u001b[39m\u001b[38;5;241m32\u001b[39m)\n",
      "File \u001b[0;32m~/miniconda3/envs/tf/lib/python3.11/site-packages/keras/src/utils/traceback_utils.py:122\u001b[0m, in \u001b[0;36mfilter_traceback.<locals>.error_handler\u001b[0;34m(*args, **kwargs)\u001b[0m\n\u001b[1;32m    119\u001b[0m     filtered_tb \u001b[38;5;241m=\u001b[39m _process_traceback_frames(e\u001b[38;5;241m.\u001b[39m__traceback__)\n\u001b[1;32m    120\u001b[0m     \u001b[38;5;66;03m# To get the full stack trace, call:\u001b[39;00m\n\u001b[1;32m    121\u001b[0m     \u001b[38;5;66;03m# `keras.config.disable_traceback_filtering()`\u001b[39;00m\n\u001b[0;32m--> 122\u001b[0m     \u001b[38;5;28;01mraise\u001b[39;00m e\u001b[38;5;241m.\u001b[39mwith_traceback(filtered_tb) \u001b[38;5;28;01mfrom\u001b[39;00m \u001b[38;5;28;01mNone\u001b[39;00m\n\u001b[1;32m    123\u001b[0m \u001b[38;5;28;01mfinally\u001b[39;00m:\n\u001b[1;32m    124\u001b[0m     \u001b[38;5;28;01mdel\u001b[39;00m filtered_tb\n",
      "File \u001b[0;32m~/miniconda3/envs/tf/lib/python3.11/site-packages/tensorflow/python/eager/execute.py:53\u001b[0m, in \u001b[0;36mquick_execute\u001b[0;34m(op_name, num_outputs, inputs, attrs, ctx, name)\u001b[0m\n\u001b[1;32m     51\u001b[0m \u001b[38;5;28;01mtry\u001b[39;00m:\n\u001b[1;32m     52\u001b[0m   ctx\u001b[38;5;241m.\u001b[39mensure_initialized()\n\u001b[0;32m---> 53\u001b[0m   tensors \u001b[38;5;241m=\u001b[39m pywrap_tfe\u001b[38;5;241m.\u001b[39mTFE_Py_Execute(ctx\u001b[38;5;241m.\u001b[39m_handle, device_name, op_name,\n\u001b[1;32m     54\u001b[0m                                       inputs, attrs, num_outputs)\n\u001b[1;32m     55\u001b[0m \u001b[38;5;28;01mexcept\u001b[39;00m core\u001b[38;5;241m.\u001b[39m_NotOkStatusException \u001b[38;5;28;01mas\u001b[39;00m e:\n\u001b[1;32m     56\u001b[0m   \u001b[38;5;28;01mif\u001b[39;00m name \u001b[38;5;129;01mis\u001b[39;00m \u001b[38;5;129;01mnot\u001b[39;00m \u001b[38;5;28;01mNone\u001b[39;00m:\n",
      "\u001b[0;31mUnknownError\u001b[0m: Graph execution error:\n\nDetected at node PyFunc defined at (most recent call last):\n<stack traces unavailable>\nDetected at node PyFunc defined at (most recent call last):\n<stack traces unavailable>\n2 root error(s) found.\n  (0) UNKNOWN:  UnidentifiedImageError: cannot identify image file '/home/shared/Mammiferes_jpg/.DS_Store'\nTraceback (most recent call last):\n\n  File \"/home/tom/miniconda3/envs/tf/lib/python3.11/site-packages/tensorflow/python/ops/script_ops.py\", line 270, in __call__\n    ret = func(*args)\n          ^^^^^^^^^^^\n\n  File \"/home/tom/miniconda3/envs/tf/lib/python3.11/site-packages/tensorflow/python/autograph/impl/api.py\", line 643, in wrapper\n    return func(*args, **kwargs)\n           ^^^^^^^^^^^^^^^^^^^^^\n\n  File \"/home/tom/miniconda3/envs/tf/lib/python3.11/site-packages/tensorflow/python/data/ops/from_generator_op.py\", line 198, in generator_py_func\n    values = next(generator_state.get_iterator(iterator_id))\n             ^^^^^^^^^^^^^^^^^^^^^^^^^^^^^^^^^^^^^^^^^^^^^^^\n\n  File \"/home/tom/miniconda3/envs/tf/lib/python3.11/site-packages/keras/src/trainers/data_adapters/py_dataset_adapter.py\", line 247, in _finite_generator\n    yield self.py_dataset[i]\n          ~~~~~~~~~~~~~~~^^^\n\n  File \"/tmp/ipykernel_1780711/2898196897.py\", line 75, in __getitem__\n    img = Image.open(item[\"path\"])\n          ^^^^^^^^^^^^^^^^^^^^^^^^\n\n  File \"/home/tom/miniconda3/envs/tf/lib/python3.11/site-packages/PIL/Image.py\", line 3498, in open\n    raise UnidentifiedImageError(msg)\n\nPIL.UnidentifiedImageError: cannot identify image file '/home/shared/Mammiferes_jpg/.DS_Store'\n\n\n\t [[{{node PyFunc}}]]\n\t [[IteratorGetNext]]\n\t [[IteratorGetNext/_4]]\n  (1) UNKNOWN:  UnidentifiedImageError: cannot identify image file '/home/shared/Mammiferes_jpg/.DS_Store'\nTraceback (most recent call last):\n\n  File \"/home/tom/miniconda3/envs/tf/lib/python3.11/site-packages/tensorflow/python/ops/script_ops.py\", line 270, in __call__\n    ret = func(*args)\n          ^^^^^^^^^^^\n\n  File \"/home/tom/miniconda3/envs/tf/lib/python3.11/site-packages/tensorflow/python/autograph/impl/api.py\", line 643, in wrapper\n    return func(*args, **kwargs)\n           ^^^^^^^^^^^^^^^^^^^^^\n\n  File \"/home/tom/miniconda3/envs/tf/lib/python3.11/site-packages/tensorflow/python/data/ops/from_generator_op.py\", line 198, in generator_py_func\n    values = next(generator_state.get_iterator(iterator_id))\n             ^^^^^^^^^^^^^^^^^^^^^^^^^^^^^^^^^^^^^^^^^^^^^^^\n\n  File \"/home/tom/miniconda3/envs/tf/lib/python3.11/site-packages/keras/src/trainers/data_adapters/py_dataset_adapter.py\", line 247, in _finite_generator\n    yield self.py_dataset[i]\n          ~~~~~~~~~~~~~~~^^^\n\n  File \"/tmp/ipykernel_1780711/2898196897.py\", line 75, in __getitem__\n    img = Image.open(item[\"path\"])\n          ^^^^^^^^^^^^^^^^^^^^^^^^\n\n  File \"/home/tom/miniconda3/envs/tf/lib/python3.11/site-packages/PIL/Image.py\", line 3498, in open\n    raise UnidentifiedImageError(msg)\n\nPIL.UnidentifiedImageError: cannot identify image file '/home/shared/Mammiferes_jpg/.DS_Store'\n\n\n\t [[{{node PyFunc}}]]\n\t [[IteratorGetNext]]\n0 successful operations.\n0 derived errors ignored. [Op:__inference_one_step_on_iterator_308495]"
     ]
    }
   ],
   "source": [
    "model3.compile( optimizer=keras.optimizers.Adam(), loss=keras.losses.SparseCategoricalCrossentropy())\n",
    "model3.fit(train, validation_data=val, epochs=10, callbacks=[save_best, reduce_lr], batch_size=32)"
   ]
  },
  {
   "cell_type": "code",
   "execution_count": null,
   "metadata": {},
   "outputs": [],
   "source": []
  }
 ],
 "metadata": {
  "kernelspec": {
   "display_name": "tf",
   "language": "python",
   "name": "python3"
  },
  "language_info": {
   "codemirror_mode": {
    "name": "ipython",
    "version": 3
   },
   "file_extension": ".py",
   "mimetype": "text/x-python",
   "name": "python",
   "nbconvert_exporter": "python",
   "pygments_lexer": "ipython3",
   "version": "3.11.10"
  }
 },
 "nbformat": 4,
 "nbformat_minor": 2
}
