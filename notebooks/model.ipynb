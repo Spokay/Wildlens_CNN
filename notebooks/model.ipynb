{
 "cells": [
  {
   "cell_type": "code",
   "execution_count": 1,
   "metadata": {},
   "outputs": [
    {
     "name": "stderr",
     "output_type": "stream",
     "text": [
      "2024-12-15 17:15:30.423793: I tensorflow/core/util/port.cc:153] oneDNN custom operations are on. You may see slightly different numerical results due to floating-point round-off errors from different computation orders. To turn them off, set the environment variable `TF_ENABLE_ONEDNN_OPTS=0`.\n",
      "2024-12-15 17:15:30.432646: E external/local_xla/xla/stream_executor/cuda/cuda_fft.cc:477] Unable to register cuFFT factory: Attempting to register factory for plugin cuFFT when one has already been registered\n",
      "WARNING: All log messages before absl::InitializeLog() is called are written to STDERR\n",
      "E0000 00:00:1734279330.442089  151280 cuda_dnn.cc:8310] Unable to register cuDNN factory: Attempting to register factory for plugin cuDNN when one has already been registered\n",
      "E0000 00:00:1734279330.444920  151280 cuda_blas.cc:1418] Unable to register cuBLAS factory: Attempting to register factory for plugin cuBLAS when one has already been registered\n",
      "2024-12-15 17:15:30.455360: I tensorflow/core/platform/cpu_feature_guard.cc:210] This TensorFlow binary is optimized to use available CPU instructions in performance-critical operations.\n",
      "To enable the following instructions: AVX2 AVX512F AVX512_VNNI AVX512_BF16 FMA, in other operations, rebuild TensorFlow with the appropriate compiler flags.\n",
      "/home/tom/miniconda3/envs/tf/lib/python3.12/site-packages/tqdm/auto.py:21: TqdmWarning: IProgress not found. Please update jupyter and ipywidgets. See https://ipywidgets.readthedocs.io/en/stable/user_install.html\n",
      "  from .autonotebook import tqdm as notebook_tqdm\n"
     ]
    }
   ],
   "source": [
    "import keras\n",
    "import tensorflow as tf\n",
    "import random\n",
    "import os\n",
    "import numpy as np\n",
    "import tensorflow_hub as hub\n",
    "from PIL import Image\n",
    "import keras_cv\n",
    "\n",
    "physical_devices = tf.config.experimental.list_physical_devices('GPU')\n",
    "tf.config.experimental.set_memory_growth(physical_devices[0], True)\n",
    "\n",
    "# set log level\n",
    "os.environ['TF_CPP_MIN_LOG_LEVEL'] = '3'"
   ]
  },
  {
   "cell_type": "code",
   "execution_count": 2,
   "metadata": {},
   "outputs": [],
   "source": [
    "class CustomDataGen(keras.utils.Sequence):\n",
    "    def __init__(self, data_folder: str, aug_len: dict[str, float], batch_size=32, split=\"train\", train_ratio=0.8, seed=42):\n",
    "        super().__init__()\n",
    "\n",
    "        self.data_folder = data_folder\n",
    "        self.aug_len = aug_len\n",
    "        self.batch_size = batch_size\n",
    "        self.data = []\n",
    "\n",
    "        self.pipeline = tf.keras.Sequential([\n",
    "            keras.layers.RandomFlip(\"horizontal_and_vertical\"),\n",
    "            keras.layers.RandomRotation(0.2),\n",
    "            keras.layers.RandomZoom(0.1),\n",
    "            keras.layers.RandomContrast(0.01),\n",
    "            keras.layers.Rescaling(1./255),\n",
    "            keras.layers.Resizing(224, 224),\n",
    "            keras.layers.Normalization(\n",
    "                mean=(0.485, 0.456, 0.406), \n",
    "                variance=(0.229, 0.224, 0.225)\n",
    "            )\n",
    "        ])\n",
    "\n",
    "        self.split = split\n",
    "        self.train_ratio = train_ratio\n",
    "        self.seed = seed\n",
    "        self.load_data()\n",
    "        self.classes = {label: idx for idx, label in enumerate(set([item[\"label\"] for item in self.data]))}\n",
    "\n",
    "    \n",
    "    def load_data(self):\n",
    "\n",
    "        all_files = []\n",
    "        for root, _, files in os.walk(self.data_folder):\n",
    "            ext = os.path.splitext(files[0])[1]\n",
    "            if ext not in [\".jpg\", \".jpeg\", \".png\"]:\n",
    "                continue\n",
    "            subfolder = os.path.basename(root)\n",
    "            for file in files:\n",
    "                all_files.append({\n",
    "                    \"path\": os.path.join(root, file),\n",
    "                    \"label\": subfolder\n",
    "                })\n",
    "\n",
    "        random.seed(self.seed)\n",
    "        random.shuffle(all_files)\n",
    "        \n",
    "\n",
    "        split_idx = int(len(all_files) * self.train_ratio)\n",
    "        \n",
    "\n",
    "        if self.split == \"train\":\n",
    "            base_files = all_files[:split_idx]\n",
    "        else:\n",
    "            base_files = all_files[split_idx:]\n",
    "        \n",
    "\n",
    "        self.data = []\n",
    "        for file in base_files:\n",
    "            if self.split == \"train\" and file[\"label\"] in self.aug_len:\n",
    "                prob = self.aug_len[file[\"label\"]]\n",
    "                for _ in range(int(prob)):\n",
    "                    self.data.append(file)\n",
    "                if np.random.rand() < (prob - int(prob)):\n",
    "                    self.data.append(file)\n",
    "            else:\n",
    "                self.data.append(file)\n",
    "        \n",
    "        random.shuffle(self.data)\n",
    "\n",
    "    def __len__(self):\n",
    "        return int(np.ceil(len(self.data) / self.batch_size))\n",
    "    \n",
    "    def __getitem__(self, idx):\n",
    "        batch_data = self.data[idx * self.batch_size:(idx + 1) * self.batch_size]\n",
    "        batch_images = []\n",
    "        batch_labels = []\n",
    "        for item in batch_data:\n",
    "            img = Image.open(item[\"path\"])\n",
    "            img = np.array(img)\n",
    "            if img.ndim == 2:\n",
    "                img = np.stack((img,) * 3, axis=-1)\n",
    "            elif img.shape[2] == 1:\n",
    "                img = np.concatenate([img] * 3, axis=-1)\n",
    "            img = self.pipeline(img)\n",
    "            batch_images.append(img)\n",
    "            batch_labels.append(self.classes[item[\"label\"]])\n",
    "\n",
    "        return np.array(batch_images), np.array(batch_labels)\n",
    "    \n",
    "    def on_epoch_end(self):\n",
    "        random.shuffle(self.data)\n",
    "        \n"
   ]
  },
  {
   "cell_type": "code",
   "execution_count": 3,
   "metadata": {},
   "outputs": [
    {
     "name": "stderr",
     "output_type": "stream",
     "text": [
      "I0000 00:00:1734279331.809198  151280 gpu_device.cc:2022] Created device /job:localhost/replica:0/task:0/device:GPU:0 with 22282 MB memory:  -> device: 0, name: NVIDIA GeForce RTX 4090, pci bus id: 0000:01:00.0, compute capability: 8.9\n"
     ]
    }
   ],
   "source": [
    "train = CustomDataGen(\"/home/shared/Mammiferes_test\",{\n",
    "    \"Castor\": 1.5,\n",
    "    \"Chat\": 1.5,\n",
    "    \"Chien\": 1.5,\n",
    "    \"Coyote\": 1.5,\n",
    "    \"Ecureuil\": 1.5,\n",
    "    \"Lapin\": 1.5,\n",
    "    \"Loup\": 1.5,\n",
    "    \"Lynx\" : 1.5,\n",
    "    \"Ours\" : 1.5,\n",
    "    \"Puma\" : 1.5,\n",
    "    \"Rat\": 1.5,\n",
    "    \"Raton_laveur\": 1.5,\n",
    "    \"Renard\": 1.5,\n",
    "}, batch_size=32, split=\"train\")\n",
    "val = CustomDataGen(\"/home/shared/Mammiferes_test\",{\n",
    "    \"Castor\": 1.5,\n",
    "    \"Chat\": 1.5,\n",
    "    \"Chien\": 1.5,\n",
    "    \"Coyote\": 1.5,\n",
    "    \"Ecureuil\": 1.5,\n",
    "    \"Lapin\": 1.5,\n",
    "    \"Loup\": 1.5,\n",
    "    \"Lynx\" : 1.5,\n",
    "    \"Ours\" : 1.5,\n",
    "    \"Puma\" : 1.5,\n",
    "    \"Rat\": 1.5,\n",
    "    \"Raton_laveur\": 1.5,\n",
    "    \"Renard\": 1.5,\n",
    "}, batch_size=32, split=\"val\")"
   ]
  },
  {
   "cell_type": "code",
   "execution_count": 7,
   "metadata": {},
   "outputs": [
    {
     "name": "stdout",
     "output_type": "stream",
     "text": [
      "Downloading data from https://storage.googleapis.com/keras-applications/efficientnetb0_notop.h5\n",
      "\u001b[1m16705208/16705208\u001b[0m \u001b[32m━━━━━━━━━━━━━━━━━━━━\u001b[0m\u001b[37m\u001b[0m \u001b[1m2s\u001b[0m 0us/step\n"
     ]
    }
   ],
   "source": [
    "model = tf.keras.applications.EfficientNetB0(\n",
    "    weights='imagenet',\n",
    "    input_tensor=None,\n",
    "    input_shape=None,\n",
    "    pooling=None,\n",
    "    include_top=False,\n",
    ")\n",
    "\n",
    "model.trainable = False\n",
    "\n",
    "model_with_classification = tf.keras.Sequential([\n",
    "    model,\n",
    "    keras.layers.GlobalAveragePooling2D(),\n",
    "    keras.layers.Dropout(0.5),\n",
    "    keras.layers.Dense(512, activation=\"relu\"),\n",
    "    keras.layers.Dense(13, activation=\"softmax\")\n",
    "])"
   ]
  },
  {
   "cell_type": "code",
   "execution_count": 8,
   "metadata": {},
   "outputs": [],
   "source": [
    "model_with_classification.compile(\n",
    "    optimizer=tf.keras.optimizers.Adam(learning_rate=0.001),\n",
    "    loss=tf.keras.losses.SparseCategoricalCrossentropy(),\n",
    "    metrics=['accuracy']\n",
    ")\n"
   ]
  },
  {
   "cell_type": "code",
   "execution_count": 9,
   "metadata": {},
   "outputs": [
    {
     "name": "stdout",
     "output_type": "stream",
     "text": [
      "Epoch 1/10\n",
      "\u001b[1m 5/10\u001b[0m \u001b[32m━━━━━━━━━━\u001b[0m\u001b[37m━━━━━━━━━━\u001b[0m \u001b[1m3s\u001b[0m 636ms/step - accuracy: 0.0705 - loss: 2.6444"
     ]
    },
    {
     "name": "stderr",
     "output_type": "stream",
     "text": [
      "E0000 00:00:1734279695.980005  151412 gpu_timer.cc:82] Delay kernel timed out: measured time has sub-optimal accuracy. There may be a missing warmup execution, please investigate in Nsight Systems.\n",
      "E0000 00:00:1734279696.528975  151412 gpu_timer.cc:82] Delay kernel timed out: measured time has sub-optimal accuracy. There may be a missing warmup execution, please investigate in Nsight Systems.\n"
     ]
    },
    {
     "name": "stdout",
     "output_type": "stream",
     "text": [
      "\u001b[1m10/10\u001b[0m \u001b[32m━━━━━━━━━━━━━━━━━━━━\u001b[0m\u001b[37m\u001b[0m \u001b[1m0s\u001b[0m 942ms/step - accuracy: 0.0798 - loss: 2.6710"
     ]
    },
    {
     "name": "stderr",
     "output_type": "stream",
     "text": [
      "2024-12-15 17:21:43.787968: I external/local_xla/xla/stream_executor/cuda/cuda_asm_compiler.cc:397] ptxas warning : Registers are spilled to local memory in function 'gemm_fusion_dot_2050', 16 bytes spill stores, 16 bytes spill loads\n",
      "\n",
      "2024-12-15 17:21:43.886642: I external/local_xla/xla/stream_executor/cuda/cuda_asm_compiler.cc:397] ptxas warning : Registers are spilled to local memory in function 'gemm_fusion_dot_2050_0', 112 bytes spill stores, 144 bytes spill loads\n",
      "\n",
      "2024-12-15 17:21:43.925369: I external/local_xla/xla/stream_executor/cuda/cuda_asm_compiler.cc:397] ptxas warning : Registers are spilled to local memory in function 'gemm_fusion_dot_2050', 228 bytes spill stores, 228 bytes spill loads\n",
      "\n",
      "2024-12-15 17:21:45.505069: I external/local_xla/xla/stream_executor/cuda/cuda_asm_compiler.cc:397] ptxas warning : Registers are spilled to local memory in function 'gemm_fusion_dot_2050', 16 bytes spill stores, 16 bytes spill loads\n",
      "\n",
      "2024-12-15 17:21:45.590446: I external/local_xla/xla/stream_executor/cuda/cuda_asm_compiler.cc:397] ptxas warning : Registers are spilled to local memory in function 'gemm_fusion_dot_2050_0', 344 bytes spill stores, 520 bytes spill loads\n",
      "\n",
      "2024-12-15 17:21:45.621537: I external/local_xla/xla/stream_executor/cuda/cuda_asm_compiler.cc:397] ptxas warning : Registers are spilled to local memory in function 'gemm_fusion_dot_2050', 24 bytes spill stores, 24 bytes spill loads\n",
      "\n"
     ]
    },
    {
     "name": "stdout",
     "output_type": "stream",
     "text": [
      "\u001b[1m10/10\u001b[0m \u001b[32m━━━━━━━━━━━━━━━━━━━━\u001b[0m\u001b[37m\u001b[0m \u001b[1m24s\u001b[0m 2s/step - accuracy: 0.0801 - loss: 2.6717 - val_accuracy: 0.0980 - val_loss: 2.6321\n",
      "Epoch 2/10\n",
      "\u001b[1m10/10\u001b[0m \u001b[32m━━━━━━━━━━━━━━━━━━━━\u001b[0m\u001b[37m\u001b[0m \u001b[1m9s\u001b[0m 867ms/step - accuracy: 0.0520 - loss: 2.6685 - val_accuracy: 0.0784 - val_loss: 2.6124\n",
      "Epoch 3/10\n",
      "\u001b[1m10/10\u001b[0m \u001b[32m━━━━━━━━━━━━━━━━━━━━\u001b[0m\u001b[37m\u001b[0m \u001b[1m8s\u001b[0m 835ms/step - accuracy: 0.0634 - loss: 2.5856 - val_accuracy: 0.0392 - val_loss: 2.6481\n",
      "Epoch 4/10\n",
      "\u001b[1m10/10\u001b[0m \u001b[32m━━━━━━━━━━━━━━━━━━━━\u001b[0m\u001b[37m\u001b[0m \u001b[1m9s\u001b[0m 913ms/step - accuracy: 0.1397 - loss: 2.5416 - val_accuracy: 0.0784 - val_loss: 2.5710\n",
      "Epoch 5/10\n",
      "\u001b[1m10/10\u001b[0m \u001b[32m━━━━━━━━━━━━━━━━━━━━\u001b[0m\u001b[37m\u001b[0m \u001b[1m9s\u001b[0m 877ms/step - accuracy: 0.1070 - loss: 2.5360 - val_accuracy: 0.0392 - val_loss: 2.5801\n",
      "Epoch 6/10\n",
      "\u001b[1m10/10\u001b[0m \u001b[32m━━━━━━━━━━━━━━━━━━━━\u001b[0m\u001b[37m\u001b[0m \u001b[1m9s\u001b[0m 918ms/step - accuracy: 0.1377 - loss: 2.5452 - val_accuracy: 0.0392 - val_loss: 2.6223\n",
      "Epoch 7/10\n",
      "\u001b[1m10/10\u001b[0m \u001b[32m━━━━━━━━━━━━━━━━━━━━\u001b[0m\u001b[37m\u001b[0m \u001b[1m9s\u001b[0m 906ms/step - accuracy: 0.1030 - loss: 2.5438 - val_accuracy: 0.1373 - val_loss: 2.5513\n",
      "Epoch 8/10\n",
      "\u001b[1m10/10\u001b[0m \u001b[32m━━━━━━━━━━━━━━━━━━━━\u001b[0m\u001b[37m\u001b[0m \u001b[1m9s\u001b[0m 891ms/step - accuracy: 0.0891 - loss: 2.5647 - val_accuracy: 0.0588 - val_loss: 2.5929\n",
      "Epoch 9/10\n",
      "\u001b[1m10/10\u001b[0m \u001b[32m━━━━━━━━━━━━━━━━━━━━\u001b[0m\u001b[37m\u001b[0m \u001b[1m8s\u001b[0m 813ms/step - accuracy: 0.1094 - loss: 2.5644 - val_accuracy: 0.0392 - val_loss: 2.6408\n",
      "Epoch 10/10\n",
      "\u001b[1m10/10\u001b[0m \u001b[32m━━━━━━━━━━━━━━━━━━━━\u001b[0m\u001b[37m\u001b[0m \u001b[1m9s\u001b[0m 870ms/step - accuracy: 0.1046 - loss: 2.5438 - val_accuracy: 0.0392 - val_loss: 2.5712\n"
     ]
    },
    {
     "data": {
      "text/plain": [
       "<keras.src.callbacks.history.History at 0x74cfd0011f10>"
      ]
     },
     "execution_count": 9,
     "metadata": {},
     "output_type": "execute_result"
    }
   ],
   "source": [
    "model_with_classification.fit(train, validation_data=val, epochs=10)"
   ]
  },
  {
   "cell_type": "code",
   "execution_count": null,
   "metadata": {},
   "outputs": [],
   "source": []
  }
 ],
 "metadata": {
  "kernelspec": {
   "display_name": "Tensorflow",
   "language": "python",
   "name": "tf"
  },
  "language_info": {
   "codemirror_mode": {
    "name": "ipython",
    "version": 3
   },
   "file_extension": ".py",
   "mimetype": "text/x-python",
   "name": "python",
   "nbconvert_exporter": "python",
   "pygments_lexer": "ipython3",
   "version": "3.11.10"
  }
 },
 "nbformat": 4,
 "nbformat_minor": 2
}
