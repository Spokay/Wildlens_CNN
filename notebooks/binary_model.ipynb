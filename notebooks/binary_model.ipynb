{
 "cells": [
  {
   "cell_type": "markdown",
   "metadata": {},
   "source": [
    "# Modèle de reconnaissance d'empreintes"
   ]
  },
  {
   "cell_type": "code",
   "execution_count": 10,
   "metadata": {},
   "outputs": [],
   "source": [
    "import tensorflow as tf\n",
    "import numpy as np\n",
    "import matplotlib.pyplot as plt\n",
    "import keras\n",
    "import os\n",
    "from keras import layers\n",
    "from random import shuffle\n",
    "\n",
    "physical_devices = tf.config.list_physical_devices('GPU')\n",
    "tf.config.experimental.set_memory_growth(physical_devices[0], True)"
   ]
  },
  {
   "cell_type": "code",
   "execution_count": 11,
   "metadata": {},
   "outputs": [],
   "source": [
    "# |---------------------------------------------|\n",
    "# |          Configuration du modèle            |\n",
    "# |---------------------------------------------|\n",
    "\n",
    "batch_size = 32\n",
    "epochs = 60"
   ]
  },
  {
   "cell_type": "code",
   "execution_count": 12,
   "metadata": {},
   "outputs": [
    {
     "name": "stdout",
     "output_type": "stream",
     "text": [
      "Found 508 files belonging to 2 classes.\n",
      "Using 407 files for training.\n",
      "Using 101 files for validation.\n"
     ]
    }
   ],
   "source": [
    "# Construire le dataset à partir du folder \n",
    "\n",
    "image_size = (256, 256)\n",
    "\n",
    "train_ds, val_ds = keras.utils.image_dataset_from_directory(\n",
    "    \"/home/shared/Dataset_wildlens\",\n",
    "    validation_split=0.2,\n",
    "    subset=\"both\",\n",
    "    seed=1337,\n",
    "    image_size=image_size,\n",
    "    batch_size=batch_size,\n",
    ")"
   ]
  },
  {
   "cell_type": "code",
   "execution_count": 13,
   "metadata": {},
   "outputs": [],
   "source": [
    "# Voir les 9 premières images\n",
    "\n",
    "# plt.figure(figsize=(10, 10))\n",
    "# for images, labels in train_ds.take(1):\n",
    "#     for i in range(9):\n",
    "#         ax = plt.subplot(3, 3, i + 1)\n",
    "#         plt.imshow(np.array(images[i]).astype(\"uint8\"))\n",
    "#         plt.title(int(labels[i]))\n",
    "#         plt.axis(\"off\")"
   ]
  },
  {
   "cell_type": "code",
   "execution_count": 14,
   "metadata": {},
   "outputs": [],
   "source": [
    "data_augmentation_layers = [\n",
    "    layers.RandomFlip(\"horizontal\"),\n",
    "    layers.RandomRotation(0.4),\n",
    "    layers.RandomFlip(\"vertical\")\n",
    "]\n",
    "\n",
    "\n",
    "def data_augmentation(images):\n",
    "    for layer in data_augmentation_layers:\n",
    "        images = layer(images)\n",
    "    return images\n",
    "\n",
    "# plt.figure(figsize=(10, 10))\n",
    "# for images, _ in train_ds.take(1):\n",
    "#     for i in range(9):\n",
    "#         augmented_images = data_augmentation(images)\n",
    "#         ax = plt.subplot(3, 3, i + 1)\n",
    "#         plt.imshow(np.array(augmented_images[0]).astype(\"uint8\"))\n",
    "#         plt.axis(\"off\")\n"
   ]
  },
  {
   "cell_type": "code",
   "execution_count": 15,
   "metadata": {},
   "outputs": [],
   "source": [
    "binary_model = tf.keras.Sequential([\n",
    "    layers.Resizing(256,256),\n",
    "    layers.Normalization(mean=[0.485, 0.456, 0.406], variance=[0.229, 0.224, 0.225], axis=-1),\n",
    "    layers.Conv2D(32, kernel_size=5, activation='relu'),\n",
    "    layers.MaxPool2D(pool_size=2),\n",
    "    layers.Conv2D(16, kernel_size=5, activation='relu'),\n",
    "    layers.MaxPool2D(pool_size=2),\n",
    "    layers.Conv2D(16, kernel_size=5, activation='relu'),\n",
    "    layers.MaxPool2D(pool_size=2),\n",
    "    layers.Conv2D(16, kernel_size=5, activation='relu'),\n",
    "    layers.MaxPool2D(pool_size=2),\n",
    "    layers.Flatten(),\n",
    "    layers.Dense(1, activation='sigmoid')  # Sortie binaire\n",
    "])\n"
   ]
  },
  {
   "cell_type": "code",
   "execution_count": 16,
   "metadata": {},
   "outputs": [],
   "source": [
    "binary_model.compile(\n",
    "    optimizer=\"adam\",\n",
    "    loss=\"binary_crossentropy\",\n",
    "    metrics=['accuracy']\n",
    ")"
   ]
  },
  {
   "cell_type": "code",
   "execution_count": 17,
   "metadata": {},
   "outputs": [
    {
     "data": {
      "text/html": [
       "<pre style=\"white-space:pre;overflow-x:auto;line-height:normal;font-family:Menlo,'DejaVu Sans Mono',consolas,'Courier New',monospace\"><span style=\"font-weight: bold\">Model: \"sequential_1\"</span>\n",
       "</pre>\n"
      ],
      "text/plain": [
       "\u001b[1mModel: \"sequential_1\"\u001b[0m\n"
      ]
     },
     "metadata": {},
     "output_type": "display_data"
    },
    {
     "data": {
      "text/html": [
       "<pre style=\"white-space:pre;overflow-x:auto;line-height:normal;font-family:Menlo,'DejaVu Sans Mono',consolas,'Courier New',monospace\">┏━━━━━━━━━━━━━━━━━━━━━━━━━━━━━━━━━┳━━━━━━━━━━━━━━━━━━━━━━━━┳━━━━━━━━━━━━━━━┓\n",
       "┃<span style=\"font-weight: bold\"> Layer (type)                    </span>┃<span style=\"font-weight: bold\"> Output Shape           </span>┃<span style=\"font-weight: bold\">       Param # </span>┃\n",
       "┡━━━━━━━━━━━━━━━━━━━━━━━━━━━━━━━━━╇━━━━━━━━━━━━━━━━━━━━━━━━╇━━━━━━━━━━━━━━━┩\n",
       "│ resizing_1 (<span style=\"color: #0087ff; text-decoration-color: #0087ff\">Resizing</span>)           │ ?                      │   <span style=\"color: #00af00; text-decoration-color: #00af00\">0</span> (unbuilt) │\n",
       "├─────────────────────────────────┼────────────────────────┼───────────────┤\n",
       "│ normalization_1 (<span style=\"color: #0087ff; text-decoration-color: #0087ff\">Normalization</span>) │ ?                      │   <span style=\"color: #00af00; text-decoration-color: #00af00\">0</span> (unbuilt) │\n",
       "├─────────────────────────────────┼────────────────────────┼───────────────┤\n",
       "│ conv2d_4 (<span style=\"color: #0087ff; text-decoration-color: #0087ff\">Conv2D</span>)               │ ?                      │   <span style=\"color: #00af00; text-decoration-color: #00af00\">0</span> (unbuilt) │\n",
       "├─────────────────────────────────┼────────────────────────┼───────────────┤\n",
       "│ max_pooling2d_4 (<span style=\"color: #0087ff; text-decoration-color: #0087ff\">MaxPooling2D</span>)  │ ?                      │             <span style=\"color: #00af00; text-decoration-color: #00af00\">0</span> │\n",
       "├─────────────────────────────────┼────────────────────────┼───────────────┤\n",
       "│ conv2d_5 (<span style=\"color: #0087ff; text-decoration-color: #0087ff\">Conv2D</span>)               │ ?                      │   <span style=\"color: #00af00; text-decoration-color: #00af00\">0</span> (unbuilt) │\n",
       "├─────────────────────────────────┼────────────────────────┼───────────────┤\n",
       "│ max_pooling2d_5 (<span style=\"color: #0087ff; text-decoration-color: #0087ff\">MaxPooling2D</span>)  │ ?                      │             <span style=\"color: #00af00; text-decoration-color: #00af00\">0</span> │\n",
       "├─────────────────────────────────┼────────────────────────┼───────────────┤\n",
       "│ conv2d_6 (<span style=\"color: #0087ff; text-decoration-color: #0087ff\">Conv2D</span>)               │ ?                      │   <span style=\"color: #00af00; text-decoration-color: #00af00\">0</span> (unbuilt) │\n",
       "├─────────────────────────────────┼────────────────────────┼───────────────┤\n",
       "│ max_pooling2d_6 (<span style=\"color: #0087ff; text-decoration-color: #0087ff\">MaxPooling2D</span>)  │ ?                      │             <span style=\"color: #00af00; text-decoration-color: #00af00\">0</span> │\n",
       "├─────────────────────────────────┼────────────────────────┼───────────────┤\n",
       "│ conv2d_7 (<span style=\"color: #0087ff; text-decoration-color: #0087ff\">Conv2D</span>)               │ ?                      │   <span style=\"color: #00af00; text-decoration-color: #00af00\">0</span> (unbuilt) │\n",
       "├─────────────────────────────────┼────────────────────────┼───────────────┤\n",
       "│ max_pooling2d_7 (<span style=\"color: #0087ff; text-decoration-color: #0087ff\">MaxPooling2D</span>)  │ ?                      │             <span style=\"color: #00af00; text-decoration-color: #00af00\">0</span> │\n",
       "├─────────────────────────────────┼────────────────────────┼───────────────┤\n",
       "│ flatten_1 (<span style=\"color: #0087ff; text-decoration-color: #0087ff\">Flatten</span>)             │ ?                      │   <span style=\"color: #00af00; text-decoration-color: #00af00\">0</span> (unbuilt) │\n",
       "├─────────────────────────────────┼────────────────────────┼───────────────┤\n",
       "│ dense_1 (<span style=\"color: #0087ff; text-decoration-color: #0087ff\">Dense</span>)                 │ ?                      │   <span style=\"color: #00af00; text-decoration-color: #00af00\">0</span> (unbuilt) │\n",
       "└─────────────────────────────────┴────────────────────────┴───────────────┘\n",
       "</pre>\n"
      ],
      "text/plain": [
       "┏━━━━━━━━━━━━━━━━━━━━━━━━━━━━━━━━━┳━━━━━━━━━━━━━━━━━━━━━━━━┳━━━━━━━━━━━━━━━┓\n",
       "┃\u001b[1m \u001b[0m\u001b[1mLayer (type)                   \u001b[0m\u001b[1m \u001b[0m┃\u001b[1m \u001b[0m\u001b[1mOutput Shape          \u001b[0m\u001b[1m \u001b[0m┃\u001b[1m \u001b[0m\u001b[1m      Param #\u001b[0m\u001b[1m \u001b[0m┃\n",
       "┡━━━━━━━━━━━━━━━━━━━━━━━━━━━━━━━━━╇━━━━━━━━━━━━━━━━━━━━━━━━╇━━━━━━━━━━━━━━━┩\n",
       "│ resizing_1 (\u001b[38;5;33mResizing\u001b[0m)           │ ?                      │   \u001b[38;5;34m0\u001b[0m (unbuilt) │\n",
       "├─────────────────────────────────┼────────────────────────┼───────────────┤\n",
       "│ normalization_1 (\u001b[38;5;33mNormalization\u001b[0m) │ ?                      │   \u001b[38;5;34m0\u001b[0m (unbuilt) │\n",
       "├─────────────────────────────────┼────────────────────────┼───────────────┤\n",
       "│ conv2d_4 (\u001b[38;5;33mConv2D\u001b[0m)               │ ?                      │   \u001b[38;5;34m0\u001b[0m (unbuilt) │\n",
       "├─────────────────────────────────┼────────────────────────┼───────────────┤\n",
       "│ max_pooling2d_4 (\u001b[38;5;33mMaxPooling2D\u001b[0m)  │ ?                      │             \u001b[38;5;34m0\u001b[0m │\n",
       "├─────────────────────────────────┼────────────────────────┼───────────────┤\n",
       "│ conv2d_5 (\u001b[38;5;33mConv2D\u001b[0m)               │ ?                      │   \u001b[38;5;34m0\u001b[0m (unbuilt) │\n",
       "├─────────────────────────────────┼────────────────────────┼───────────────┤\n",
       "│ max_pooling2d_5 (\u001b[38;5;33mMaxPooling2D\u001b[0m)  │ ?                      │             \u001b[38;5;34m0\u001b[0m │\n",
       "├─────────────────────────────────┼────────────────────────┼───────────────┤\n",
       "│ conv2d_6 (\u001b[38;5;33mConv2D\u001b[0m)               │ ?                      │   \u001b[38;5;34m0\u001b[0m (unbuilt) │\n",
       "├─────────────────────────────────┼────────────────────────┼───────────────┤\n",
       "│ max_pooling2d_6 (\u001b[38;5;33mMaxPooling2D\u001b[0m)  │ ?                      │             \u001b[38;5;34m0\u001b[0m │\n",
       "├─────────────────────────────────┼────────────────────────┼───────────────┤\n",
       "│ conv2d_7 (\u001b[38;5;33mConv2D\u001b[0m)               │ ?                      │   \u001b[38;5;34m0\u001b[0m (unbuilt) │\n",
       "├─────────────────────────────────┼────────────────────────┼───────────────┤\n",
       "│ max_pooling2d_7 (\u001b[38;5;33mMaxPooling2D\u001b[0m)  │ ?                      │             \u001b[38;5;34m0\u001b[0m │\n",
       "├─────────────────────────────────┼────────────────────────┼───────────────┤\n",
       "│ flatten_1 (\u001b[38;5;33mFlatten\u001b[0m)             │ ?                      │   \u001b[38;5;34m0\u001b[0m (unbuilt) │\n",
       "├─────────────────────────────────┼────────────────────────┼───────────────┤\n",
       "│ dense_1 (\u001b[38;5;33mDense\u001b[0m)                 │ ?                      │   \u001b[38;5;34m0\u001b[0m (unbuilt) │\n",
       "└─────────────────────────────────┴────────────────────────┴───────────────┘\n"
      ]
     },
     "metadata": {},
     "output_type": "display_data"
    },
    {
     "data": {
      "text/html": [
       "<pre style=\"white-space:pre;overflow-x:auto;line-height:normal;font-family:Menlo,'DejaVu Sans Mono',consolas,'Courier New',monospace\"><span style=\"font-weight: bold\"> Total params: </span><span style=\"color: #00af00; text-decoration-color: #00af00\">0</span> (0.00 B)\n",
       "</pre>\n"
      ],
      "text/plain": [
       "\u001b[1m Total params: \u001b[0m\u001b[38;5;34m0\u001b[0m (0.00 B)\n"
      ]
     },
     "metadata": {},
     "output_type": "display_data"
    },
    {
     "data": {
      "text/html": [
       "<pre style=\"white-space:pre;overflow-x:auto;line-height:normal;font-family:Menlo,'DejaVu Sans Mono',consolas,'Courier New',monospace\"><span style=\"font-weight: bold\"> Trainable params: </span><span style=\"color: #00af00; text-decoration-color: #00af00\">0</span> (0.00 B)\n",
       "</pre>\n"
      ],
      "text/plain": [
       "\u001b[1m Trainable params: \u001b[0m\u001b[38;5;34m0\u001b[0m (0.00 B)\n"
      ]
     },
     "metadata": {},
     "output_type": "display_data"
    },
    {
     "data": {
      "text/html": [
       "<pre style=\"white-space:pre;overflow-x:auto;line-height:normal;font-family:Menlo,'DejaVu Sans Mono',consolas,'Courier New',monospace\"><span style=\"font-weight: bold\"> Non-trainable params: </span><span style=\"color: #00af00; text-decoration-color: #00af00\">0</span> (0.00 B)\n",
       "</pre>\n"
      ],
      "text/plain": [
       "\u001b[1m Non-trainable params: \u001b[0m\u001b[38;5;34m0\u001b[0m (0.00 B)\n"
      ]
     },
     "metadata": {},
     "output_type": "display_data"
    }
   ],
   "source": [
    "binary_model.build()\n",
    "binary_model.summary()"
   ]
  },
  {
   "cell_type": "code",
   "execution_count": 18,
   "metadata": {},
   "outputs": [
    {
     "name": "stdout",
     "output_type": "stream",
     "text": [
      "Epoch 1/60\n"
     ]
    },
    {
     "ename": "InaccessibleTensorError",
     "evalue": "<tf.Tensor 'sequential_1_1/normalization_1/Reshape:0' shape=(1, 1, 1, 3) dtype=float32> is out of scope and cannot be used here. Use return values, explicit Python locals or TensorFlow collections to access it.\nPlease see https://www.tensorflow.org/guide/function#all_outputs_of_a_tffunction_must_be_return_values for more information.\n\n<tf.Tensor 'sequential_1_1/normalization_1/Reshape:0' shape=(1, 1, 1, 3) dtype=float32> was defined here:\n    File \"<frozen runpy>\", line 198, in _run_module_as_main\n    File \"<frozen runpy>\", line 88, in _run_code\n    File \"/home/martin/miniconda3/envs/tensorflow/lib/python3.11/site-packages/ipykernel_launcher.py\", line 18, in <module>\n    File \"/home/martin/miniconda3/envs/tensorflow/lib/python3.11/site-packages/traitlets/config/application.py\", line 1075, in launch_instance\n    File \"/home/martin/miniconda3/envs/tensorflow/lib/python3.11/site-packages/ipykernel/kernelapp.py\", line 739, in start\n    File \"/home/martin/miniconda3/envs/tensorflow/lib/python3.11/site-packages/tornado/platform/asyncio.py\", line 205, in start\n    File \"/home/martin/miniconda3/envs/tensorflow/lib/python3.11/asyncio/base_events.py\", line 608, in run_forever\n    File \"/home/martin/miniconda3/envs/tensorflow/lib/python3.11/asyncio/base_events.py\", line 1936, in _run_once\n    File \"/home/martin/miniconda3/envs/tensorflow/lib/python3.11/asyncio/events.py\", line 84, in _run\n    File \"/home/martin/miniconda3/envs/tensorflow/lib/python3.11/site-packages/ipykernel/kernelbase.py\", line 545, in dispatch_queue\n    File \"/home/martin/miniconda3/envs/tensorflow/lib/python3.11/site-packages/ipykernel/kernelbase.py\", line 534, in process_one\n    File \"/home/martin/miniconda3/envs/tensorflow/lib/python3.11/site-packages/ipykernel/kernelbase.py\", line 437, in dispatch_shell\n    File \"/home/martin/miniconda3/envs/tensorflow/lib/python3.11/site-packages/ipykernel/ipkernel.py\", line 362, in execute_request\n    File \"/home/martin/miniconda3/envs/tensorflow/lib/python3.11/site-packages/ipykernel/kernelbase.py\", line 778, in execute_request\n    File \"/home/martin/miniconda3/envs/tensorflow/lib/python3.11/site-packages/ipykernel/ipkernel.py\", line 449, in do_execute\n    File \"/home/martin/miniconda3/envs/tensorflow/lib/python3.11/site-packages/ipykernel/zmqshell.py\", line 549, in run_cell\n    File \"/home/martin/miniconda3/envs/tensorflow/lib/python3.11/site-packages/IPython/core/interactiveshell.py\", line 3075, in run_cell\n    File \"/home/martin/miniconda3/envs/tensorflow/lib/python3.11/site-packages/IPython/core/interactiveshell.py\", line 3130, in _run_cell\n    File \"/home/martin/miniconda3/envs/tensorflow/lib/python3.11/site-packages/IPython/core/async_helpers.py\", line 128, in _pseudo_sync_runner\n    File \"/home/martin/miniconda3/envs/tensorflow/lib/python3.11/site-packages/IPython/core/interactiveshell.py\", line 3334, in run_cell_async\n    File \"/home/martin/miniconda3/envs/tensorflow/lib/python3.11/site-packages/IPython/core/interactiveshell.py\", line 3517, in run_ast_nodes\n    File \"/home/martin/miniconda3/envs/tensorflow/lib/python3.11/site-packages/IPython/core/interactiveshell.py\", line 3577, in run_code\n    File \"/tmp/ipykernel_3011925/598916342.py\", line 1, in <module>\n    File \"/home/martin/miniconda3/envs/tensorflow/lib/python3.11/site-packages/keras/src/utils/traceback_utils.py\", line 117, in error_handler\n    File \"/home/martin/miniconda3/envs/tensorflow/lib/python3.11/site-packages/keras/src/backend/tensorflow/trainer.py\", line 320, in fit\n    File \"/home/martin/miniconda3/envs/tensorflow/lib/python3.11/site-packages/keras/src/backend/tensorflow/trainer.py\", line 121, in one_step_on_iterator\n    File \"/home/martin/miniconda3/envs/tensorflow/lib/python3.11/site-packages/keras/src/backend/tensorflow/trainer.py\", line 108, in one_step_on_data\n    File \"/home/martin/miniconda3/envs/tensorflow/lib/python3.11/site-packages/keras/src/backend/tensorflow/trainer.py\", line 51, in train_step\n    File \"/home/martin/miniconda3/envs/tensorflow/lib/python3.11/site-packages/keras/src/utils/traceback_utils.py\", line 117, in error_handler\n    File \"/home/martin/miniconda3/envs/tensorflow/lib/python3.11/site-packages/keras/src/layers/layer.py\", line 899, in __call__\n    File \"/home/martin/miniconda3/envs/tensorflow/lib/python3.11/site-packages/keras/src/utils/traceback_utils.py\", line 117, in error_handler\n    File \"/home/martin/miniconda3/envs/tensorflow/lib/python3.11/site-packages/keras/src/ops/operation.py\", line 46, in __call__\n    File \"/home/martin/miniconda3/envs/tensorflow/lib/python3.11/site-packages/keras/src/utils/traceback_utils.py\", line 156, in error_handler\n    File \"/home/martin/miniconda3/envs/tensorflow/lib/python3.11/site-packages/keras/src/models/sequential.py\", line 227, in call\n    File \"/home/martin/miniconda3/envs/tensorflow/lib/python3.11/site-packages/keras/src/layers/preprocessing/tf_data_layer.py\", line 43, in __call__\n    File \"/home/martin/miniconda3/envs/tensorflow/lib/python3.11/site-packages/keras/src/utils/traceback_utils.py\", line 117, in error_handler\n    File \"/home/martin/miniconda3/envs/tensorflow/lib/python3.11/site-packages/keras/src/layers/layer.py\", line 826, in __call__\n    File \"/home/martin/miniconda3/envs/tensorflow/lib/python3.11/site-packages/keras/src/layers/layer.py\", line 1365, in _maybe_build\n    File \"/home/martin/miniconda3/envs/tensorflow/lib/python3.11/site-packages/keras/src/layers/layer.py\", line 226, in build_wrapper\n    File \"/home/martin/miniconda3/envs/tensorflow/lib/python3.11/site-packages/keras/src/layers/preprocessing/normalization.py\", line 193, in build\n    File \"/home/martin/miniconda3/envs/tensorflow/lib/python3.11/site-packages/keras/src/ops/numpy.py\", line 4728, in reshape\n    File \"/home/martin/miniconda3/envs/tensorflow/lib/python3.11/site-packages/keras/src/backend/tensorflow/numpy.py\", line 1851, in reshape\n\nThe tensor <tf.Tensor 'sequential_1_1/normalization_1/Reshape:0' shape=(1, 1, 1, 3) dtype=float32> cannot be accessed from FuncGraph(name=one_step_on_iterator, id=128192988855488), because it was defined in FuncGraph(name=one_step_on_data, id=128192988858944), which is out of scope.",
     "output_type": "error",
     "traceback": [
      "\u001b[0;31m---------------------------------------------------------------------------\u001b[0m",
      "\u001b[0;31mInaccessibleTensorError\u001b[0m                   Traceback (most recent call last)",
      "Cell \u001b[0;32mIn[18], line 1\u001b[0m\n\u001b[0;32m----> 1\u001b[0m hist\u001b[38;5;241m=\u001b[39m\u001b[43mbinary_model\u001b[49m\u001b[38;5;241;43m.\u001b[39;49m\u001b[43mfit\u001b[49m\u001b[43m(\u001b[49m\n\u001b[1;32m      2\u001b[0m \u001b[43m   \u001b[49m\u001b[43mtrain_ds\u001b[49m\u001b[43m,\u001b[49m\n\u001b[1;32m      3\u001b[0m \u001b[43m   \u001b[49m\u001b[43mepochs\u001b[49m\u001b[38;5;241;43m=\u001b[39;49m\u001b[43mepochs\u001b[49m\u001b[43m,\u001b[49m\n\u001b[1;32m      4\u001b[0m \u001b[43m   \u001b[49m\u001b[43mbatch_size\u001b[49m\u001b[38;5;241;43m=\u001b[39;49m\u001b[43mbatch_size\u001b[49m\u001b[43m,\u001b[49m\n\u001b[1;32m      5\u001b[0m \u001b[43m   \u001b[49m\u001b[43mvalidation_data\u001b[49m\u001b[38;5;241;43m=\u001b[39;49m\u001b[43mval_ds\u001b[49m\n\u001b[1;32m      6\u001b[0m \u001b[43m)\u001b[49m\n",
      "File \u001b[0;32m~/miniconda3/envs/tensorflow/lib/python3.11/site-packages/keras/src/utils/traceback_utils.py:122\u001b[0m, in \u001b[0;36mfilter_traceback.<locals>.error_handler\u001b[0;34m(*args, **kwargs)\u001b[0m\n\u001b[1;32m    119\u001b[0m     filtered_tb \u001b[38;5;241m=\u001b[39m _process_traceback_frames(e\u001b[38;5;241m.\u001b[39m__traceback__)\n\u001b[1;32m    120\u001b[0m     \u001b[38;5;66;03m# To get the full stack trace, call:\u001b[39;00m\n\u001b[1;32m    121\u001b[0m     \u001b[38;5;66;03m# `keras.config.disable_traceback_filtering()`\u001b[39;00m\n\u001b[0;32m--> 122\u001b[0m     \u001b[38;5;28;01mraise\u001b[39;00m e\u001b[38;5;241m.\u001b[39mwith_traceback(filtered_tb) \u001b[38;5;28;01mfrom\u001b[39;00m\u001b[38;5;250m \u001b[39m\u001b[38;5;28;01mNone\u001b[39;00m\n\u001b[1;32m    123\u001b[0m \u001b[38;5;28;01mfinally\u001b[39;00m:\n\u001b[1;32m    124\u001b[0m     \u001b[38;5;28;01mdel\u001b[39;00m filtered_tb\n",
      "File \u001b[0;32m~/miniconda3/envs/tensorflow/lib/python3.11/site-packages/tensorflow/core/function/capture/capture_container.py:144\u001b[0m, in \u001b[0;36mFunctionCaptures.capture_by_value\u001b[0;34m(self, graph, tensor, name)\u001b[0m\n\u001b[1;32m    141\u001b[0m   \u001b[38;5;28;01mreturn\u001b[39;00m \u001b[38;5;28mself\u001b[39m\u001b[38;5;241m.\u001b[39m_create_placeholder_helper(graph, tensor, name)\n\u001b[1;32m    143\u001b[0m \u001b[38;5;28;01mif\u001b[39;00m tensor\u001b[38;5;241m.\u001b[39mgraph \u001b[38;5;129;01mis\u001b[39;00m \u001b[38;5;129;01mnot\u001b[39;00m graph:\n\u001b[0;32m--> 144\u001b[0m   \u001b[43mgraph\u001b[49m\u001b[38;5;241;43m.\u001b[39;49m\u001b[43m_validate_in_scope\u001b[49m\u001b[43m(\u001b[49m\u001b[43mtensor\u001b[49m\u001b[43m)\u001b[49m  \u001b[38;5;66;03m# pylint: disable=protected-access\u001b[39;00m\n\u001b[1;32m    145\u001b[0m   \u001b[38;5;28;01mif\u001b[39;00m name \u001b[38;5;129;01mis\u001b[39;00m \u001b[38;5;28;01mNone\u001b[39;00m:\n\u001b[1;32m    146\u001b[0m     \u001b[38;5;28;01massert\u001b[39;00m tensor\u001b[38;5;241m.\u001b[39mop \u001b[38;5;129;01mis\u001b[39;00m \u001b[38;5;129;01mnot\u001b[39;00m \u001b[38;5;28;01mNone\u001b[39;00m, (\n\u001b[1;32m    147\u001b[0m         tensor\u001b[38;5;241m.\u001b[39m\u001b[38;5;18m__class__\u001b[39m,\n\u001b[1;32m    148\u001b[0m         \u001b[38;5;28mdir\u001b[39m(tensor),\n\u001b[1;32m    149\u001b[0m         tensor\u001b[38;5;241m.\u001b[39m\u001b[38;5;18m__class__\u001b[39m\u001b[38;5;241m.\u001b[39m\u001b[38;5;18m__name__\u001b[39m,\n\u001b[1;32m    150\u001b[0m     )\n",
      "\u001b[0;31mInaccessibleTensorError\u001b[0m: <tf.Tensor 'sequential_1_1/normalization_1/Reshape:0' shape=(1, 1, 1, 3) dtype=float32> is out of scope and cannot be used here. Use return values, explicit Python locals or TensorFlow collections to access it.\nPlease see https://www.tensorflow.org/guide/function#all_outputs_of_a_tffunction_must_be_return_values for more information.\n\n<tf.Tensor 'sequential_1_1/normalization_1/Reshape:0' shape=(1, 1, 1, 3) dtype=float32> was defined here:\n    File \"<frozen runpy>\", line 198, in _run_module_as_main\n    File \"<frozen runpy>\", line 88, in _run_code\n    File \"/home/martin/miniconda3/envs/tensorflow/lib/python3.11/site-packages/ipykernel_launcher.py\", line 18, in <module>\n    File \"/home/martin/miniconda3/envs/tensorflow/lib/python3.11/site-packages/traitlets/config/application.py\", line 1075, in launch_instance\n    File \"/home/martin/miniconda3/envs/tensorflow/lib/python3.11/site-packages/ipykernel/kernelapp.py\", line 739, in start\n    File \"/home/martin/miniconda3/envs/tensorflow/lib/python3.11/site-packages/tornado/platform/asyncio.py\", line 205, in start\n    File \"/home/martin/miniconda3/envs/tensorflow/lib/python3.11/asyncio/base_events.py\", line 608, in run_forever\n    File \"/home/martin/miniconda3/envs/tensorflow/lib/python3.11/asyncio/base_events.py\", line 1936, in _run_once\n    File \"/home/martin/miniconda3/envs/tensorflow/lib/python3.11/asyncio/events.py\", line 84, in _run\n    File \"/home/martin/miniconda3/envs/tensorflow/lib/python3.11/site-packages/ipykernel/kernelbase.py\", line 545, in dispatch_queue\n    File \"/home/martin/miniconda3/envs/tensorflow/lib/python3.11/site-packages/ipykernel/kernelbase.py\", line 534, in process_one\n    File \"/home/martin/miniconda3/envs/tensorflow/lib/python3.11/site-packages/ipykernel/kernelbase.py\", line 437, in dispatch_shell\n    File \"/home/martin/miniconda3/envs/tensorflow/lib/python3.11/site-packages/ipykernel/ipkernel.py\", line 362, in execute_request\n    File \"/home/martin/miniconda3/envs/tensorflow/lib/python3.11/site-packages/ipykernel/kernelbase.py\", line 778, in execute_request\n    File \"/home/martin/miniconda3/envs/tensorflow/lib/python3.11/site-packages/ipykernel/ipkernel.py\", line 449, in do_execute\n    File \"/home/martin/miniconda3/envs/tensorflow/lib/python3.11/site-packages/ipykernel/zmqshell.py\", line 549, in run_cell\n    File \"/home/martin/miniconda3/envs/tensorflow/lib/python3.11/site-packages/IPython/core/interactiveshell.py\", line 3075, in run_cell\n    File \"/home/martin/miniconda3/envs/tensorflow/lib/python3.11/site-packages/IPython/core/interactiveshell.py\", line 3130, in _run_cell\n    File \"/home/martin/miniconda3/envs/tensorflow/lib/python3.11/site-packages/IPython/core/async_helpers.py\", line 128, in _pseudo_sync_runner\n    File \"/home/martin/miniconda3/envs/tensorflow/lib/python3.11/site-packages/IPython/core/interactiveshell.py\", line 3334, in run_cell_async\n    File \"/home/martin/miniconda3/envs/tensorflow/lib/python3.11/site-packages/IPython/core/interactiveshell.py\", line 3517, in run_ast_nodes\n    File \"/home/martin/miniconda3/envs/tensorflow/lib/python3.11/site-packages/IPython/core/interactiveshell.py\", line 3577, in run_code\n    File \"/tmp/ipykernel_3011925/598916342.py\", line 1, in <module>\n    File \"/home/martin/miniconda3/envs/tensorflow/lib/python3.11/site-packages/keras/src/utils/traceback_utils.py\", line 117, in error_handler\n    File \"/home/martin/miniconda3/envs/tensorflow/lib/python3.11/site-packages/keras/src/backend/tensorflow/trainer.py\", line 320, in fit\n    File \"/home/martin/miniconda3/envs/tensorflow/lib/python3.11/site-packages/keras/src/backend/tensorflow/trainer.py\", line 121, in one_step_on_iterator\n    File \"/home/martin/miniconda3/envs/tensorflow/lib/python3.11/site-packages/keras/src/backend/tensorflow/trainer.py\", line 108, in one_step_on_data\n    File \"/home/martin/miniconda3/envs/tensorflow/lib/python3.11/site-packages/keras/src/backend/tensorflow/trainer.py\", line 51, in train_step\n    File \"/home/martin/miniconda3/envs/tensorflow/lib/python3.11/site-packages/keras/src/utils/traceback_utils.py\", line 117, in error_handler\n    File \"/home/martin/miniconda3/envs/tensorflow/lib/python3.11/site-packages/keras/src/layers/layer.py\", line 899, in __call__\n    File \"/home/martin/miniconda3/envs/tensorflow/lib/python3.11/site-packages/keras/src/utils/traceback_utils.py\", line 117, in error_handler\n    File \"/home/martin/miniconda3/envs/tensorflow/lib/python3.11/site-packages/keras/src/ops/operation.py\", line 46, in __call__\n    File \"/home/martin/miniconda3/envs/tensorflow/lib/python3.11/site-packages/keras/src/utils/traceback_utils.py\", line 156, in error_handler\n    File \"/home/martin/miniconda3/envs/tensorflow/lib/python3.11/site-packages/keras/src/models/sequential.py\", line 227, in call\n    File \"/home/martin/miniconda3/envs/tensorflow/lib/python3.11/site-packages/keras/src/layers/preprocessing/tf_data_layer.py\", line 43, in __call__\n    File \"/home/martin/miniconda3/envs/tensorflow/lib/python3.11/site-packages/keras/src/utils/traceback_utils.py\", line 117, in error_handler\n    File \"/home/martin/miniconda3/envs/tensorflow/lib/python3.11/site-packages/keras/src/layers/layer.py\", line 826, in __call__\n    File \"/home/martin/miniconda3/envs/tensorflow/lib/python3.11/site-packages/keras/src/layers/layer.py\", line 1365, in _maybe_build\n    File \"/home/martin/miniconda3/envs/tensorflow/lib/python3.11/site-packages/keras/src/layers/layer.py\", line 226, in build_wrapper\n    File \"/home/martin/miniconda3/envs/tensorflow/lib/python3.11/site-packages/keras/src/layers/preprocessing/normalization.py\", line 193, in build\n    File \"/home/martin/miniconda3/envs/tensorflow/lib/python3.11/site-packages/keras/src/ops/numpy.py\", line 4728, in reshape\n    File \"/home/martin/miniconda3/envs/tensorflow/lib/python3.11/site-packages/keras/src/backend/tensorflow/numpy.py\", line 1851, in reshape\n\nThe tensor <tf.Tensor 'sequential_1_1/normalization_1/Reshape:0' shape=(1, 1, 1, 3) dtype=float32> cannot be accessed from FuncGraph(name=one_step_on_iterator, id=128192988855488), because it was defined in FuncGraph(name=one_step_on_data, id=128192988858944), which is out of scope."
     ]
    }
   ],
   "source": [
    "hist=binary_model.fit(\n",
    "   train_ds,\n",
    "   epochs=epochs,\n",
    "   batch_size=batch_size,\n",
    "   validation_data=val_ds\n",
    ")"
   ]
  },
  {
   "cell_type": "code",
   "execution_count": 439,
   "metadata": {},
   "outputs": [
    {
     "data": {
      "text/plain": [
       "<Figure size 800x800 with 0 Axes>"
      ]
     },
     "execution_count": 439,
     "metadata": {},
     "output_type": "execute_result"
    },
    {
     "data": {
      "text/plain": [
       "<Figure size 800x800 with 0 Axes>"
      ]
     },
     "metadata": {},
     "output_type": "display_data"
    }
   ],
   "source": [
    "plt.figure(figsize=(8,8))"
   ]
  },
  {
   "cell_type": "code",
   "execution_count": null,
   "metadata": {},
   "outputs": [],
   "source": []
  },
  {
   "cell_type": "code",
   "execution_count": 440,
   "metadata": {},
   "outputs": [
    {
     "data": {
      "text/plain": [
       "<matplotlib.legend.Legend at 0x724a14dd3c50>"
      ]
     },
     "execution_count": 440,
     "metadata": {},
     "output_type": "execute_result"
    },
    {
     "data": {
      "image/png": "[encoded data removed]",
      "text/plain": [
       "<Figure size 640x480 with 1 Axes>"
      ]
     },
     "metadata": {},
     "output_type": "display_data"
    }
   ],
   "source": [
    "plt.subplot(2,1,1)\n",
    "plt.plot(hist.history['accuracy'],'o-')\n",
    "plt.plot(hist.history['val_accuracy'],'x-')\n",
    "plt.title(\"Taux d'exactitude des prévisions\",fontsize=15)\n",
    "plt.ylabel('Taux exactitude',fontsize=12)\n",
    "plt.xlabel(\"Itérations d'apprentissage\",fontsize=15)\n",
    "plt.legend(['apprentissage', 'validation'], loc='lower right',fontsize=12)"
   ]
  },
  {
   "cell_type": "code",
   "execution_count": 441,
   "metadata": {},
   "outputs": [
    {
     "data": {
      "text/plain": [
       "<bound method TensorFlowTrainer.predict of <Sequential name=sequential_61, built=True>>"
      ]
     },
     "execution_count": 441,
     "metadata": {},
     "output_type": "execute_result"
    }
   ],
   "source": [
    "binary_model.predict"
   ]
  },
  {
   "cell_type": "markdown",
   "metadata": {},
   "source": [
    "Faire :\n",
    "- Un rollback + save best histoire de sauvegarder la meilleure version du modèle\n",
    "- Un predict + matrice de confusion\n"
   ]
  }
 ],
 "metadata": {
  "kernelspec": {
   "display_name": "tensorflow",
   "language": "python",
   "name": "python3"
  },
  "language_info": {
   "codemirror_mode": {
    "name": "ipython",
    "version": 3
   },
   "file_extension": ".py",
   "mimetype": "text/x-python",
   "name": "python",
   "nbconvert_exporter": "python",
   "pygments_lexer": "ipython3",
   "version": "3.11.11"
  }
 },
 "nbformat": 4,
 "nbformat_minor": 2
}
